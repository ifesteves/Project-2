{
 "cells": [
  {
   "cell_type": "markdown",
   "id": "c3874a18",
   "metadata": {},
   "source": [
    "Olá, Isabelle!\n",
    "\n",
    "Meu nome é Luiz. Fico feliz em revisar seu projeto. Ao longo do texto farei algumas observações sobre melhorias no código e também farei comentários sobre suas percepções sobre o assunto. Estarei aberto a feedbacks e discussões sobre o tema.\n",
    "\n",
    "**Peço que mantenha e não altere os comentários que eu fizer por aqui para que possamos nos localizar posteriormente, ok?**\n",
    "\n",
    "Mais uma coisa, vamos utilizar um código de cores para você entender o meu feedback no seu notebook. Funciona assim:\n",
    "\n",
    "<div class=\"alert alert-block alert-success\">\n",
    "<b> Comentário do revisor: </b> <a class=\"tocSkip\"></a>\n",
    "\n",
    "Sucesso. Tudo foi feito corretamente.\n",
    "</div>\n",
    "\n",
    "<div class=\"alert alert-block alert-warning\">\n",
    "<b>Comentário do revisor: </b> <a class=\"tocSkip\"></a>\n",
    "\n",
    "Alerta não crítico, mas que pode ser corrigido para melhoria geral no seu código/análise.\n",
    "</div>\n",
    "\n",
    "<div class=\"alert alert-block alert-danger\">\n",
    "\n",
    "<b>Comentário do revisor: </b> <a class=\"tocSkip\"></a>\n",
    "    \n",
    "Erro que precisa ser arrumado, caso contrário seu projeto **não** será aceito.\n",
    "</div>\n",
    "\n",
    "Você pode me responder usando isso:\n",
    "<div class=\"alert alert-block alert-info\">\n",
    "<b>Resposta do Aluno.</b> <a class=\"tocSkip\"></a>\n",
    "</div>"
   ]
  },
  {
   "cell_type": "markdown",
   "id": "3Xg_RQfnafXz",
   "metadata": {
    "id": "3Xg_RQfnafXz"
   },
   "source": [
    "\n",
    "# Vamos encher o carrinho!"
   ]
  },
  {
   "cell_type": "markdown",
   "id": "mhIvmmkW414q",
   "metadata": {
    "id": "mhIvmmkW414q"
   },
   "source": [
    "# Introdução\n",
    "\n",
    "A Instacart é uma plataforma de entrega de supermercado onde os clientes podem fazer um pedido de supermercado e receber a compra em casa, semelhante ao funcionamento do Uber Eats e do iFood. O conjunto de dados que fornecemos a você foi modificado do original. Reduzimos o tamanho dele para que seus cálculos sejam executados mais rapidamente e incluímos valores ausentes e duplicados. Também tivemos o cuidado de preservar as distribuições dos dados originais quando fizemos as alterações.\n",
    "\n",
    "Você precisa concluir três etapas. Para cada uma delas, escreva uma breve introdução descrevendo como você pretende concluir a etapa e justifique suas decisões em parágrafos explicativos intermédios a medida que você avança na solução. Escreva também uma conclusão para resumir suas conclusões e escolhas.\n",
    "\n"
   ]
  },
  {
   "cell_type": "markdown",
   "id": "3MbyzpOQZ5Or",
   "metadata": {
    "id": "3MbyzpOQZ5Or"
   },
   "source": [
    "## Dicionário de dados\n",
    "\n",
    "Há cinco tabelas no conjunto de dados, e você vai precisar usar todas elas para pré-processar os dados e fazer a AED. Abaixo está um dicionário que lista as colunas de cada tabela e descreve os dados contidos nelas.\n",
    "\n",
    "- `instacart_orders.csv`: cada linha corresponde a um pedido no aplicativo da Instacart\n",
    "    - `'order_id'`: é o número de identificação unívoco de cada pedido\n",
    "    - `'user_id'`: é o número de identificação unívoco da conta de cada cliente\n",
    "    - `'order_number'`: é o número de vezes que o cliente fez um pedido\n",
    "    - `'order_dow'`: é o dia da semana em que o pedido foi feito (0 é domingo)\n",
    "    - `'order_hour_of_day'`: é a hora do dia em que o pedido foi feito\n",
    "    - `'days_since_prior_order'`: é o número de dias desde que o cliente fez seu pedido anterior\n",
    "\n",
    "\n",
    "\n",
    "\n",
    "- `products.csv`: cada linha corresponde a um produto unívoco que os clientes podem comprar\n",
    "    - `'product_id'`: é o número de identificação unívoco de cada produto\n",
    "    - `'product_name'`: é o nome do produto\n",
    "    - `'aisle_id'`: é o número de identificação unívoco de cada categoria de seção do supermercado\n",
    "    - `'department_id'`: é o número de identificação unívoco de cada categoria de departamento do supermercado\n",
    "\n",
    "\n",
    "\n",
    "\n",
    "-\t`order_products.csv`: cada linha corresponde a um item incluído em um pedido\n",
    "    -\t`'order_id'`: é o número de identificação unívoco de cada pedido\n",
    "    -\t`'product_id'`: é o número de identificação unívoco de cada produto\n",
    "    -\t`'add_to_cart_order'`: é a ordem sequencial em que cada item foi colocado no carrinho\n",
    "    -\t`'reordered'`: 0 se o cliente nunca comprou o produto antes, 1 se já o comprou\n",
    "\n",
    "\n",
    "\n",
    "\n",
    "-\t`aisles.csv`\n",
    "    -\t`'aisle_id'`: é o número de identificação unívoco de cada categoria de seção do supermercado\n",
    "    -\t`'aisle'`: é o nome da seção\n",
    "\n",
    "\n",
    "\n",
    "-\t`departments.csv`\n",
    "    -\t`'department_id'`: é o número de identificação unívoco de cada categoria de departamento do supermercado\n",
    "    -\t`'department'`: é o nome do departamento\n"
   ]
  },
  {
   "cell_type": "markdown",
   "id": "n3Ha_cNSZ8lK",
   "metadata": {
    "id": "n3Ha_cNSZ8lK"
   },
   "source": [
    "# Etapa 1. Visão geral dos dados\n",
    "\n",
    "Leia os arquivos de dados (/datasets/instacart_orders.csv, /datasets/products.csv, /datasets/aisles.csv, /datasets/departments.csv e /datasets/order_products.csv) com `pd.read_csv()` usando os parâmetros apropriados para fazer isso corretamente. Verifique as informações para cada DataFrame criado.\n"
   ]
  },
  {
   "cell_type": "markdown",
   "id": "OmlQPLlyaAfR",
   "metadata": {
    "id": "OmlQPLlyaAfR"
   },
   "source": [
    "## Plano de solução\n",
    "\n",
    "Escreva seu plano"
   ]
  },
  {
   "cell_type": "code",
   "execution_count": 1,
   "id": "fbf1adab",
   "metadata": {
    "id": "fbf1adab"
   },
   "outputs": [],
   "source": [
    "import pandas as pd"
   ]
  },
  {
   "cell_type": "code",
   "execution_count": 2,
   "id": "ad36396d",
   "metadata": {
    "id": "ad36396d"
   },
   "outputs": [],
   "source": [
    "orders_df = pd.read_csv('/datasets/instacart_orders.csv',sep=';')\n",
    "products_df = pd.read_csv('/datasets/products.csv',sep=';')\n",
    "aisles_df = pd.read_csv('/datasets/aisles.csv',sep=';')\n",
    "departments_df = pd.read_csv('/datasets/departments.csv',sep=';')\n",
    "order_products_df = pd.read_csv('/datasets/order_products.csv',sep=';')"
   ]
  },
  {
   "cell_type": "markdown",
   "id": "f39aeff1",
   "metadata": {},
   "source": [
    "<div class=\"alert alert-block alert-success\">\n",
    "<b> Comentário do revisor: </b> <a class=\"tocSkip\"></a>\n",
    "\n",
    "O estudante leu corretamente os arquivos de dados.\n",
    "</div>"
   ]
  },
  {
   "cell_type": "code",
   "execution_count": 3,
   "id": "ad6a1efa",
   "metadata": {
    "id": "ad6a1efa"
   },
   "outputs": [
    {
     "name": "stdout",
     "output_type": "stream",
     "text": [
      "<class 'pandas.core.frame.DataFrame'>\n",
      "RangeIndex: 478967 entries, 0 to 478966\n",
      "Data columns (total 6 columns):\n",
      " #   Column                  Non-Null Count   Dtype  \n",
      "---  ------                  --------------   -----  \n",
      " 0   order_id                478967 non-null  int64  \n",
      " 1   user_id                 478967 non-null  int64  \n",
      " 2   order_number            478967 non-null  int64  \n",
      " 3   order_dow               478967 non-null  int64  \n",
      " 4   order_hour_of_day       478967 non-null  int64  \n",
      " 5   days_since_prior_order  450148 non-null  float64\n",
      "dtypes: float64(1), int64(5)\n",
      "memory usage: 21.9 MB\n"
     ]
    }
   ],
   "source": [
    "orders_df.info()\n",
    "# imprima as informações sobre o DataFrame"
   ]
  },
  {
   "cell_type": "code",
   "execution_count": 4,
   "id": "5130e05e",
   "metadata": {
    "id": "5130e05e"
   },
   "outputs": [
    {
     "name": "stdout",
     "output_type": "stream",
     "text": [
      "<class 'pandas.core.frame.DataFrame'>\n",
      "RangeIndex: 49694 entries, 0 to 49693\n",
      "Data columns (total 4 columns):\n",
      " #   Column         Non-Null Count  Dtype \n",
      "---  ------         --------------  ----- \n",
      " 0   product_id     49694 non-null  int64 \n",
      " 1   product_name   48436 non-null  object\n",
      " 2   aisle_id       49694 non-null  int64 \n",
      " 3   department_id  49694 non-null  int64 \n",
      "dtypes: int64(3), object(1)\n",
      "memory usage: 1.5+ MB\n"
     ]
    }
   ],
   "source": [
    "products_df.info() # imprima as informações sobre o DataFrame"
   ]
  },
  {
   "cell_type": "code",
   "execution_count": 5,
   "id": "d8370c05",
   "metadata": {
    "id": "d8370c05"
   },
   "outputs": [
    {
     "name": "stdout",
     "output_type": "stream",
     "text": [
      "<class 'pandas.core.frame.DataFrame'>\n",
      "RangeIndex: 134 entries, 0 to 133\n",
      "Data columns (total 2 columns):\n",
      " #   Column    Non-Null Count  Dtype \n",
      "---  ------    --------------  ----- \n",
      " 0   aisle_id  134 non-null    int64 \n",
      " 1   aisle     134 non-null    object\n",
      "dtypes: int64(1), object(1)\n",
      "memory usage: 2.2+ KB\n"
     ]
    }
   ],
   "source": [
    "aisles_df.info() # imprima as informações sobre o DataFrame"
   ]
  },
  {
   "cell_type": "code",
   "execution_count": 6,
   "id": "59e2090f",
   "metadata": {
    "id": "59e2090f"
   },
   "outputs": [
    {
     "name": "stdout",
     "output_type": "stream",
     "text": [
      "<class 'pandas.core.frame.DataFrame'>\n",
      "RangeIndex: 21 entries, 0 to 20\n",
      "Data columns (total 2 columns):\n",
      " #   Column         Non-Null Count  Dtype \n",
      "---  ------         --------------  ----- \n",
      " 0   department_id  21 non-null     int64 \n",
      " 1   department     21 non-null     object\n",
      "dtypes: int64(1), object(1)\n",
      "memory usage: 464.0+ bytes\n"
     ]
    }
   ],
   "source": [
    "departments_df.info() # imprima as informações sobre o DataFrame"
   ]
  },
  {
   "cell_type": "code",
   "execution_count": 7,
   "id": "6fc81694",
   "metadata": {
    "id": "6fc81694"
   },
   "outputs": [
    {
     "name": "stdout",
     "output_type": "stream",
     "text": [
      "<class 'pandas.core.frame.DataFrame'>\n",
      "RangeIndex: 4545007 entries, 0 to 4545006\n",
      "Data columns (total 4 columns):\n",
      " #   Column             Dtype  \n",
      "---  ------             -----  \n",
      " 0   order_id           int64  \n",
      " 1   product_id         int64  \n",
      " 2   add_to_cart_order  float64\n",
      " 3   reordered          int64  \n",
      "dtypes: float64(1), int64(3)\n",
      "memory usage: 138.7 MB\n"
     ]
    }
   ],
   "source": [
    "order_products_df.info() # imprima as informações sobre o DataFrame"
   ]
  },
  {
   "cell_type": "markdown",
   "id": "09a7163a",
   "metadata": {},
   "source": [
    "<div class=\"alert alert-block alert-success\">\n",
    "<b> Comentário do revisor: </b> <a class=\"tocSkip\"></a>\n",
    "\n",
    "O estudante verificou corretamente as informações sobre os dataframes. Essa etapa é importante para validar que os dados estão no formato correto e se existem atributos que irão precisar de tratamento adicional (preenchimento/imputação de dados, por exemplo).\n",
    "</div>"
   ]
  },
  {
   "cell_type": "markdown",
   "id": "t75BD19oaR5f",
   "metadata": {
    "id": "t75BD19oaR5f"
   },
   "source": [
    "## Conclusões\n",
    "\n",
    "Todos os arquivos CSVs estavam separados por ';', foi necessário utilizar o comando sept = para uma leitura correta dos arquivos. \n",
    "Temos uma diversidade nos dados, sendo eles números inteiros, flutuantes e dados do tipo objeto. \n"
   ]
  },
  {
   "cell_type": "markdown",
   "id": "094466b8",
   "metadata": {},
   "source": [
    "<div class=\"alert alert-block alert-success\">\n",
    "<b> Comentário do revisor: </b> <a class=\"tocSkip\"></a>\n",
    "\n",
    "O estudante leu corretamente os dados, atentando para o separador entre colunas.\n",
    "</div>"
   ]
  },
  {
   "cell_type": "markdown",
   "id": "8RJHqxVmaVsF",
   "metadata": {
    "id": "8RJHqxVmaVsF"
   },
   "source": [
    "# Etapa 2\n",
    "\n",
    "Faça o pré-processamento dos dados da seguinte maneira:\n",
    "\n",
    "-\tVerifique e corrija os tipos de dados (por exemplo, certifique-se de que as colunas de ID sejam números inteiros)\n",
    "-\tIdentifique e preencha valores ausentes\n",
    "-\tIdentifique e remova valores duplicados\n",
    "\n",
    "Certifique-se de explicar que tipos de valores ausentes e duplicados você encontrou, como você os preencheu ou removeu, por que escolheu esses métodos e por que você acha que esses valores ausentes e duplicados estavam presentes no conjunto de dados.\n"
   ]
  },
  {
   "cell_type": "markdown",
   "id": "p6poABZQaZYb",
   "metadata": {
    "id": "p6poABZQaZYb"
   },
   "source": [
    "## Plano de solução\n",
    "\n",
    "Para verificar os dados e corrigir alguma divergência neles:\n",
    "1.Filtrar e verificar se há pedidos duplicados.\n",
    "2.Verificar se a coluna contém apenas números inteiros e não mistura de tipos de dados como: valores não numéricos ou caracteres especiais. \n",
    "3.Ter a certeza de que os valores da coluna devem ser números inteiros, convertendo novamente após a limpeza dos dados."
   ]
  },
  {
   "cell_type": "markdown",
   "id": "07357848-dc64-4156-9cc3-01ff4365226d",
   "metadata": {
    "id": "07357848-dc64-4156-9cc3-01ff4365226d"
   },
   "source": [
    "## Encontre e remova valores duplicados (e descreva por que você está fazendo suas escolhas)"
   ]
  },
  {
   "cell_type": "markdown",
   "id": "f179f0a9",
   "metadata": {
    "id": "f179f0a9"
   },
   "source": [
    "### DataFrame `orders`"
   ]
  },
  {
   "cell_type": "code",
   "execution_count": 8,
   "id": "b99297a5-405a-463d-8535-9adc3da4ad74",
   "metadata": {
    "id": "b99297a5-405a-463d-8535-9adc3da4ad74"
   },
   "outputs": [
    {
     "data": {
      "text/html": [
       "<div>\n",
       "<style scoped>\n",
       "    .dataframe tbody tr th:only-of-type {\n",
       "        vertical-align: middle;\n",
       "    }\n",
       "\n",
       "    .dataframe tbody tr th {\n",
       "        vertical-align: top;\n",
       "    }\n",
       "\n",
       "    .dataframe thead th {\n",
       "        text-align: right;\n",
       "    }\n",
       "</style>\n",
       "<table border=\"1\" class=\"dataframe\">\n",
       "  <thead>\n",
       "    <tr style=\"text-align: right;\">\n",
       "      <th></th>\n",
       "      <th>order_id</th>\n",
       "      <th>user_id</th>\n",
       "      <th>order_number</th>\n",
       "      <th>order_dow</th>\n",
       "      <th>order_hour_of_day</th>\n",
       "      <th>days_since_prior_order</th>\n",
       "    </tr>\n",
       "  </thead>\n",
       "  <tbody>\n",
       "    <tr>\n",
       "      <th>354993</th>\n",
       "      <td>391768</td>\n",
       "      <td>57671</td>\n",
       "      <td>19</td>\n",
       "      <td>3</td>\n",
       "      <td>2</td>\n",
       "      <td>10.0</td>\n",
       "    </tr>\n",
       "    <tr>\n",
       "      <th>371905</th>\n",
       "      <td>391768</td>\n",
       "      <td>57671</td>\n",
       "      <td>19</td>\n",
       "      <td>3</td>\n",
       "      <td>2</td>\n",
       "      <td>10.0</td>\n",
       "    </tr>\n",
       "    <tr>\n",
       "      <th>119251</th>\n",
       "      <td>408114</td>\n",
       "      <td>68324</td>\n",
       "      <td>4</td>\n",
       "      <td>3</td>\n",
       "      <td>2</td>\n",
       "      <td>18.0</td>\n",
       "    </tr>\n",
       "    <tr>\n",
       "      <th>321100</th>\n",
       "      <td>408114</td>\n",
       "      <td>68324</td>\n",
       "      <td>4</td>\n",
       "      <td>3</td>\n",
       "      <td>2</td>\n",
       "      <td>18.0</td>\n",
       "    </tr>\n",
       "    <tr>\n",
       "      <th>394347</th>\n",
       "      <td>467134</td>\n",
       "      <td>63189</td>\n",
       "      <td>21</td>\n",
       "      <td>3</td>\n",
       "      <td>2</td>\n",
       "      <td>2.0</td>\n",
       "    </tr>\n",
       "    <tr>\n",
       "      <th>250626</th>\n",
       "      <td>467134</td>\n",
       "      <td>63189</td>\n",
       "      <td>21</td>\n",
       "      <td>3</td>\n",
       "      <td>2</td>\n",
       "      <td>2.0</td>\n",
       "    </tr>\n",
       "    <tr>\n",
       "      <th>99462</th>\n",
       "      <td>794638</td>\n",
       "      <td>50898</td>\n",
       "      <td>24</td>\n",
       "      <td>3</td>\n",
       "      <td>2</td>\n",
       "      <td>2.0</td>\n",
       "    </tr>\n",
       "    <tr>\n",
       "      <th>145574</th>\n",
       "      <td>794638</td>\n",
       "      <td>50898</td>\n",
       "      <td>24</td>\n",
       "      <td>3</td>\n",
       "      <td>2</td>\n",
       "      <td>2.0</td>\n",
       "    </tr>\n",
       "    <tr>\n",
       "      <th>311713</th>\n",
       "      <td>1021560</td>\n",
       "      <td>53767</td>\n",
       "      <td>3</td>\n",
       "      <td>3</td>\n",
       "      <td>2</td>\n",
       "      <td>9.0</td>\n",
       "    </tr>\n",
       "    <tr>\n",
       "      <th>242618</th>\n",
       "      <td>1021560</td>\n",
       "      <td>53767</td>\n",
       "      <td>3</td>\n",
       "      <td>3</td>\n",
       "      <td>2</td>\n",
       "      <td>9.0</td>\n",
       "    </tr>\n",
       "    <tr>\n",
       "      <th>164581</th>\n",
       "      <td>1112182</td>\n",
       "      <td>202304</td>\n",
       "      <td>84</td>\n",
       "      <td>3</td>\n",
       "      <td>2</td>\n",
       "      <td>6.0</td>\n",
       "    </tr>\n",
       "    <tr>\n",
       "      <th>273805</th>\n",
       "      <td>1112182</td>\n",
       "      <td>202304</td>\n",
       "      <td>84</td>\n",
       "      <td>3</td>\n",
       "      <td>2</td>\n",
       "      <td>6.0</td>\n",
       "    </tr>\n",
       "    <tr>\n",
       "      <th>314427</th>\n",
       "      <td>1286742</td>\n",
       "      <td>183220</td>\n",
       "      <td>48</td>\n",
       "      <td>3</td>\n",
       "      <td>2</td>\n",
       "      <td>4.0</td>\n",
       "    </tr>\n",
       "    <tr>\n",
       "      <th>411408</th>\n",
       "      <td>1286742</td>\n",
       "      <td>183220</td>\n",
       "      <td>48</td>\n",
       "      <td>3</td>\n",
       "      <td>2</td>\n",
       "      <td>4.0</td>\n",
       "    </tr>\n",
       "    <tr>\n",
       "      <th>266232</th>\n",
       "      <td>1782114</td>\n",
       "      <td>106752</td>\n",
       "      <td>1</td>\n",
       "      <td>3</td>\n",
       "      <td>2</td>\n",
       "      <td>NaN</td>\n",
       "    </tr>\n",
       "    <tr>\n",
       "      <th>200059</th>\n",
       "      <td>1782114</td>\n",
       "      <td>106752</td>\n",
       "      <td>1</td>\n",
       "      <td>3</td>\n",
       "      <td>2</td>\n",
       "      <td>NaN</td>\n",
       "    </tr>\n",
       "    <tr>\n",
       "      <th>230807</th>\n",
       "      <td>1918001</td>\n",
       "      <td>188546</td>\n",
       "      <td>14</td>\n",
       "      <td>3</td>\n",
       "      <td>2</td>\n",
       "      <td>16.0</td>\n",
       "    </tr>\n",
       "    <tr>\n",
       "      <th>30371</th>\n",
       "      <td>1918001</td>\n",
       "      <td>188546</td>\n",
       "      <td>14</td>\n",
       "      <td>3</td>\n",
       "      <td>2</td>\n",
       "      <td>16.0</td>\n",
       "    </tr>\n",
       "    <tr>\n",
       "      <th>257934</th>\n",
       "      <td>1919531</td>\n",
       "      <td>191501</td>\n",
       "      <td>32</td>\n",
       "      <td>3</td>\n",
       "      <td>2</td>\n",
       "      <td>7.0</td>\n",
       "    </tr>\n",
       "    <tr>\n",
       "      <th>323900</th>\n",
       "      <td>1919531</td>\n",
       "      <td>191501</td>\n",
       "      <td>32</td>\n",
       "      <td>3</td>\n",
       "      <td>2</td>\n",
       "      <td>7.0</td>\n",
       "    </tr>\n",
       "    <tr>\n",
       "      <th>441599</th>\n",
       "      <td>2125197</td>\n",
       "      <td>14050</td>\n",
       "      <td>48</td>\n",
       "      <td>3</td>\n",
       "      <td>2</td>\n",
       "      <td>3.0</td>\n",
       "    </tr>\n",
       "    <tr>\n",
       "      <th>204042</th>\n",
       "      <td>2125197</td>\n",
       "      <td>14050</td>\n",
       "      <td>48</td>\n",
       "      <td>3</td>\n",
       "      <td>2</td>\n",
       "      <td>3.0</td>\n",
       "    </tr>\n",
       "    <tr>\n",
       "      <th>223105</th>\n",
       "      <td>2160484</td>\n",
       "      <td>107525</td>\n",
       "      <td>16</td>\n",
       "      <td>3</td>\n",
       "      <td>2</td>\n",
       "      <td>30.0</td>\n",
       "    </tr>\n",
       "    <tr>\n",
       "      <th>215294</th>\n",
       "      <td>2160484</td>\n",
       "      <td>107525</td>\n",
       "      <td>16</td>\n",
       "      <td>3</td>\n",
       "      <td>2</td>\n",
       "      <td>30.0</td>\n",
       "    </tr>\n",
       "    <tr>\n",
       "      <th>324868</th>\n",
       "      <td>2232988</td>\n",
       "      <td>82565</td>\n",
       "      <td>1</td>\n",
       "      <td>3</td>\n",
       "      <td>2</td>\n",
       "      <td>NaN</td>\n",
       "    </tr>\n",
       "    <tr>\n",
       "      <th>345917</th>\n",
       "      <td>2232988</td>\n",
       "      <td>82565</td>\n",
       "      <td>1</td>\n",
       "      <td>3</td>\n",
       "      <td>2</td>\n",
       "      <td>NaN</td>\n",
       "    </tr>\n",
       "    <tr>\n",
       "      <th>415163</th>\n",
       "      <td>2282673</td>\n",
       "      <td>86751</td>\n",
       "      <td>49</td>\n",
       "      <td>3</td>\n",
       "      <td>2</td>\n",
       "      <td>2.0</td>\n",
       "    </tr>\n",
       "    <tr>\n",
       "      <th>259636</th>\n",
       "      <td>2282673</td>\n",
       "      <td>86751</td>\n",
       "      <td>49</td>\n",
       "      <td>3</td>\n",
       "      <td>2</td>\n",
       "      <td>2.0</td>\n",
       "    </tr>\n",
       "    <tr>\n",
       "      <th>142258</th>\n",
       "      <td>2845099</td>\n",
       "      <td>31189</td>\n",
       "      <td>11</td>\n",
       "      <td>3</td>\n",
       "      <td>2</td>\n",
       "      <td>7.0</td>\n",
       "    </tr>\n",
       "    <tr>\n",
       "      <th>284038</th>\n",
       "      <td>2845099</td>\n",
       "      <td>31189</td>\n",
       "      <td>11</td>\n",
       "      <td>3</td>\n",
       "      <td>2</td>\n",
       "      <td>7.0</td>\n",
       "    </tr>\n",
       "  </tbody>\n",
       "</table>\n",
       "</div>"
      ],
      "text/plain": [
       "        order_id  user_id  order_number  order_dow  order_hour_of_day  \\\n",
       "354993    391768    57671            19          3                  2   \n",
       "371905    391768    57671            19          3                  2   \n",
       "119251    408114    68324             4          3                  2   \n",
       "321100    408114    68324             4          3                  2   \n",
       "394347    467134    63189            21          3                  2   \n",
       "250626    467134    63189            21          3                  2   \n",
       "99462     794638    50898            24          3                  2   \n",
       "145574    794638    50898            24          3                  2   \n",
       "311713   1021560    53767             3          3                  2   \n",
       "242618   1021560    53767             3          3                  2   \n",
       "164581   1112182   202304            84          3                  2   \n",
       "273805   1112182   202304            84          3                  2   \n",
       "314427   1286742   183220            48          3                  2   \n",
       "411408   1286742   183220            48          3                  2   \n",
       "266232   1782114   106752             1          3                  2   \n",
       "200059   1782114   106752             1          3                  2   \n",
       "230807   1918001   188546            14          3                  2   \n",
       "30371    1918001   188546            14          3                  2   \n",
       "257934   1919531   191501            32          3                  2   \n",
       "323900   1919531   191501            32          3                  2   \n",
       "441599   2125197    14050            48          3                  2   \n",
       "204042   2125197    14050            48          3                  2   \n",
       "223105   2160484   107525            16          3                  2   \n",
       "215294   2160484   107525            16          3                  2   \n",
       "324868   2232988    82565             1          3                  2   \n",
       "345917   2232988    82565             1          3                  2   \n",
       "415163   2282673    86751            49          3                  2   \n",
       "259636   2282673    86751            49          3                  2   \n",
       "142258   2845099    31189            11          3                  2   \n",
       "284038   2845099    31189            11          3                  2   \n",
       "\n",
       "        days_since_prior_order  \n",
       "354993                    10.0  \n",
       "371905                    10.0  \n",
       "119251                    18.0  \n",
       "321100                    18.0  \n",
       "394347                     2.0  \n",
       "250626                     2.0  \n",
       "99462                      2.0  \n",
       "145574                     2.0  \n",
       "311713                     9.0  \n",
       "242618                     9.0  \n",
       "164581                     6.0  \n",
       "273805                     6.0  \n",
       "314427                     4.0  \n",
       "411408                     4.0  \n",
       "266232                     NaN  \n",
       "200059                     NaN  \n",
       "230807                    16.0  \n",
       "30371                     16.0  \n",
       "257934                     7.0  \n",
       "323900                     7.0  \n",
       "441599                     3.0  \n",
       "204042                     3.0  \n",
       "223105                    30.0  \n",
       "215294                    30.0  \n",
       "324868                     NaN  \n",
       "345917                     NaN  \n",
       "415163                     2.0  \n",
       "259636                     2.0  \n",
       "142258                     7.0  \n",
       "284038                     7.0  "
      ]
     },
     "execution_count": 8,
     "metadata": {},
     "output_type": "execute_result"
    }
   ],
   "source": [
    "orders_df[orders_df.duplicated(subset = 'order_id', keep = False)].sort_values('order_id')"
   ]
  },
  {
   "cell_type": "markdown",
   "id": "PEkwUX_gvt5A",
   "metadata": {
    "id": "PEkwUX_gvt5A"
   },
   "source": [
    "Há linhas duplicadas na coluna 'order_id', todas as linhas estão trazendo a informação do tipo números inteiros, exceto a coluna 'days_since_prior_order', onde temos número flutuantes e valores ausentes representados por NaN."
   ]
  },
  {
   "cell_type": "code",
   "execution_count": 9,
   "id": "0d44de5d",
   "metadata": {
    "id": "0d44de5d"
   },
   "outputs": [
    {
     "data": {
      "text/html": [
       "<div>\n",
       "<style scoped>\n",
       "    .dataframe tbody tr th:only-of-type {\n",
       "        vertical-align: middle;\n",
       "    }\n",
       "\n",
       "    .dataframe tbody tr th {\n",
       "        vertical-align: top;\n",
       "    }\n",
       "\n",
       "    .dataframe thead th {\n",
       "        text-align: right;\n",
       "    }\n",
       "</style>\n",
       "<table border=\"1\" class=\"dataframe\">\n",
       "  <thead>\n",
       "    <tr style=\"text-align: right;\">\n",
       "      <th></th>\n",
       "      <th>order_id</th>\n",
       "      <th>user_id</th>\n",
       "      <th>order_number</th>\n",
       "      <th>order_dow</th>\n",
       "      <th>order_hour_of_day</th>\n",
       "      <th>days_since_prior_order</th>\n",
       "    </tr>\n",
       "  </thead>\n",
       "  <tbody>\n",
       "    <tr>\n",
       "      <th>452265</th>\n",
       "      <td>191</td>\n",
       "      <td>176417</td>\n",
       "      <td>44</td>\n",
       "      <td>3</td>\n",
       "      <td>2</td>\n",
       "      <td>6.0</td>\n",
       "    </tr>\n",
       "    <tr>\n",
       "      <th>468324</th>\n",
       "      <td>222962</td>\n",
       "      <td>54979</td>\n",
       "      <td>59</td>\n",
       "      <td>3</td>\n",
       "      <td>2</td>\n",
       "      <td>3.0</td>\n",
       "    </tr>\n",
       "    <tr>\n",
       "      <th>247867</th>\n",
       "      <td>238782</td>\n",
       "      <td>196224</td>\n",
       "      <td>6</td>\n",
       "      <td>3</td>\n",
       "      <td>2</td>\n",
       "      <td>3.0</td>\n",
       "    </tr>\n",
       "    <tr>\n",
       "      <th>417106</th>\n",
       "      <td>248760</td>\n",
       "      <td>204961</td>\n",
       "      <td>25</td>\n",
       "      <td>3</td>\n",
       "      <td>2</td>\n",
       "      <td>15.0</td>\n",
       "    </tr>\n",
       "    <tr>\n",
       "      <th>328565</th>\n",
       "      <td>264348</td>\n",
       "      <td>34806</td>\n",
       "      <td>6</td>\n",
       "      <td>3</td>\n",
       "      <td>2</td>\n",
       "      <td>5.0</td>\n",
       "    </tr>\n",
       "    <tr>\n",
       "      <th>...</th>\n",
       "      <td>...</td>\n",
       "      <td>...</td>\n",
       "      <td>...</td>\n",
       "      <td>...</td>\n",
       "      <td>...</td>\n",
       "      <td>...</td>\n",
       "    </tr>\n",
       "    <tr>\n",
       "      <th>97378</th>\n",
       "      <td>3226444</td>\n",
       "      <td>149996</td>\n",
       "      <td>3</td>\n",
       "      <td>3</td>\n",
       "      <td>2</td>\n",
       "      <td>23.0</td>\n",
       "    </tr>\n",
       "    <tr>\n",
       "      <th>416198</th>\n",
       "      <td>3275652</td>\n",
       "      <td>169225</td>\n",
       "      <td>7</td>\n",
       "      <td>3</td>\n",
       "      <td>2</td>\n",
       "      <td>30.0</td>\n",
       "    </tr>\n",
       "    <tr>\n",
       "      <th>415975</th>\n",
       "      <td>3286161</td>\n",
       "      <td>77320</td>\n",
       "      <td>9</td>\n",
       "      <td>3</td>\n",
       "      <td>2</td>\n",
       "      <td>8.0</td>\n",
       "    </tr>\n",
       "    <tr>\n",
       "      <th>457013</th>\n",
       "      <td>3384021</td>\n",
       "      <td>14881</td>\n",
       "      <td>6</td>\n",
       "      <td>3</td>\n",
       "      <td>2</td>\n",
       "      <td>30.0</td>\n",
       "    </tr>\n",
       "    <tr>\n",
       "      <th>178465</th>\n",
       "      <td>3389820</td>\n",
       "      <td>21703</td>\n",
       "      <td>2</td>\n",
       "      <td>3</td>\n",
       "      <td>2</td>\n",
       "      <td>11.0</td>\n",
       "    </tr>\n",
       "  </tbody>\n",
       "</table>\n",
       "<p>121 rows × 6 columns</p>\n",
       "</div>"
      ],
      "text/plain": [
       "        order_id  user_id  order_number  order_dow  order_hour_of_day  \\\n",
       "452265       191   176417            44          3                  2   \n",
       "468324    222962    54979            59          3                  2   \n",
       "247867    238782   196224             6          3                  2   \n",
       "417106    248760   204961            25          3                  2   \n",
       "328565    264348    34806             6          3                  2   \n",
       "...          ...      ...           ...        ...                ...   \n",
       "97378    3226444   149996             3          3                  2   \n",
       "416198   3275652   169225             7          3                  2   \n",
       "415975   3286161    77320             9          3                  2   \n",
       "457013   3384021    14881             6          3                  2   \n",
       "178465   3389820    21703             2          3                  2   \n",
       "\n",
       "        days_since_prior_order  \n",
       "452265                     6.0  \n",
       "468324                     3.0  \n",
       "247867                     3.0  \n",
       "417106                    15.0  \n",
       "328565                     5.0  \n",
       "...                        ...  \n",
       "97378                     23.0  \n",
       "416198                    30.0  \n",
       "415975                     8.0  \n",
       "457013                    30.0  \n",
       "178465                    11.0  \n",
       "\n",
       "[121 rows x 6 columns]"
      ]
     },
     "execution_count": 9,
     "metadata": {},
     "output_type": "execute_result"
    }
   ],
   "source": [
    "# Com base nas suas conclusões,\n",
    "orders_df[(orders_df['order_dow']==3)&(orders_df['order_hour_of_day']==2)].sort_values('order_id')\n",
    "# verifique todos os pedidos feitos às 2h da manhã nas quartas-feiras"
   ]
  },
  {
   "cell_type": "markdown",
   "id": "vu2OWyoqwOx5",
   "metadata": {
    "id": "vu2OWyoqwOx5"
   },
   "source": [
    "Ao filtrar os pedidos feitos as 2 horas da manhã na quarta-feira, observamos que não aponta a duplicidade nas informações de 'order_id'."
   ]
  },
  {
   "cell_type": "code",
   "execution_count": 10,
   "id": "480563c7",
   "metadata": {
    "id": "480563c7"
   },
   "outputs": [],
   "source": [
    "orders_df.drop_duplicates(subset=['order_id'], keep='first', inplace=True)\n",
    "# Remova pedidos duplicados"
   ]
  },
  {
   "cell_type": "markdown",
   "id": "6568b75f",
   "metadata": {},
   "source": [
    "<div class=\"alert alert-block alert-success\">\n",
    "<b> Comentário do revisor: </b> <a class=\"tocSkip\"></a>\n",
    "\n",
    "O estudante tratou a duplicidade nos dados do atributo `order_id`. Vale destacar que nem sempre gostaríamos de manter o primeiro evento ao remover os duplicados. Você consegue pensar em algum caso de uso onde gostaríamos de manter o último evento ao invés do primeiro?\n",
    "</div>"
   ]
  },
  {
   "cell_type": "code",
   "execution_count": 11,
   "id": "0b2396a2",
   "metadata": {
    "id": "0b2396a2"
   },
   "outputs": [
    {
     "data": {
      "text/html": [
       "<div>\n",
       "<style scoped>\n",
       "    .dataframe tbody tr th:only-of-type {\n",
       "        vertical-align: middle;\n",
       "    }\n",
       "\n",
       "    .dataframe tbody tr th {\n",
       "        vertical-align: top;\n",
       "    }\n",
       "\n",
       "    .dataframe thead th {\n",
       "        text-align: right;\n",
       "    }\n",
       "</style>\n",
       "<table border=\"1\" class=\"dataframe\">\n",
       "  <thead>\n",
       "    <tr style=\"text-align: right;\">\n",
       "      <th></th>\n",
       "      <th>order_id</th>\n",
       "      <th>user_id</th>\n",
       "      <th>order_number</th>\n",
       "      <th>order_dow</th>\n",
       "      <th>order_hour_of_day</th>\n",
       "      <th>days_since_prior_order</th>\n",
       "    </tr>\n",
       "  </thead>\n",
       "  <tbody>\n",
       "  </tbody>\n",
       "</table>\n",
       "</div>"
      ],
      "text/plain": [
       "Empty DataFrame\n",
       "Columns: [order_id, user_id, order_number, order_dow, order_hour_of_day, days_since_prior_order]\n",
       "Index: []"
      ]
     },
     "execution_count": 11,
     "metadata": {},
     "output_type": "execute_result"
    }
   ],
   "source": [
    "orders_df[orders_df.duplicated(subset = 'order_id', keep = False)].sort_values('order_id')\n",
    "# Verifique as linhas duplicadas mais uma vez"
   ]
  },
  {
   "cell_type": "code",
   "execution_count": 12,
   "id": "f6113ef1",
   "metadata": {
    "id": "f6113ef1"
   },
   "outputs": [
    {
     "data": {
      "text/plain": [
       "False    478952\n",
       "dtype: int64"
      ]
     },
     "execution_count": 12,
     "metadata": {},
     "output_type": "execute_result"
    }
   ],
   "source": [
    "orders_df.duplicated(keep=False).value_counts()\n",
    "# Verifique novamente apenas os IDs de pedidos duplicados"
   ]
  },
  {
   "cell_type": "markdown",
   "id": "5e8905ae",
   "metadata": {
    "id": "5e8905ae"
   },
   "source": [
    "Os pedidos duplicados, ocorrem no mesmo dia e horário. "
   ]
  },
  {
   "cell_type": "markdown",
   "id": "45e6bc46",
   "metadata": {
    "id": "45e6bc46"
   },
   "source": [
    "### DataFrame `products`"
   ]
  },
  {
   "cell_type": "code",
   "execution_count": 13,
   "id": "5f526b5b-8175-46fa-a0fd-441767d50e64",
   "metadata": {
    "id": "5f526b5b-8175-46fa-a0fd-441767d50e64"
   },
   "outputs": [
    {
     "data": {
      "text/plain": [
       "False    49694\n",
       "dtype: int64"
      ]
     },
     "execution_count": 13,
     "metadata": {},
     "output_type": "execute_result"
    }
   ],
   "source": [
    "products_df.duplicated(keep=False).value_counts()\n",
    "# Verifique se há linhas completamente duplicadas"
   ]
  },
  {
   "cell_type": "code",
   "execution_count": 14,
   "id": "88daa4f4",
   "metadata": {
    "id": "88daa4f4"
   },
   "outputs": [
    {
     "data": {
      "text/html": [
       "<div>\n",
       "<style scoped>\n",
       "    .dataframe tbody tr th:only-of-type {\n",
       "        vertical-align: middle;\n",
       "    }\n",
       "\n",
       "    .dataframe tbody tr th {\n",
       "        vertical-align: top;\n",
       "    }\n",
       "\n",
       "    .dataframe thead th {\n",
       "        text-align: right;\n",
       "    }\n",
       "</style>\n",
       "<table border=\"1\" class=\"dataframe\">\n",
       "  <thead>\n",
       "    <tr style=\"text-align: right;\">\n",
       "      <th></th>\n",
       "      <th>product_id</th>\n",
       "      <th>product_name</th>\n",
       "      <th>aisle_id</th>\n",
       "      <th>department_id</th>\n",
       "    </tr>\n",
       "  </thead>\n",
       "  <tbody>\n",
       "  </tbody>\n",
       "</table>\n",
       "</div>"
      ],
      "text/plain": [
       "Empty DataFrame\n",
       "Columns: [product_id, product_name, aisle_id, department_id]\n",
       "Index: []"
      ]
     },
     "execution_count": 14,
     "metadata": {},
     "output_type": "execute_result"
    }
   ],
   "source": [
    "products_df[products_df.duplicated(subset = 'product_id', keep = False)]\n",
    "# Verifique apenas se há IDs dos produtos duplicados"
   ]
  },
  {
   "cell_type": "code",
   "execution_count": 15,
   "id": "c773f0bf",
   "metadata": {
    "id": "c773f0bf"
   },
   "outputs": [],
   "source": [
    "products_df['product_name'] = products_df['product_name'].str.lower()\n",
    "# Verifique apenas se há nomes de produtos duplicados (converta os nomes para minúsculas para uma comparação melhor)"
   ]
  },
  {
   "cell_type": "code",
   "execution_count": 16,
   "id": "01efd02e",
   "metadata": {
    "id": "01efd02e"
   },
   "outputs": [
    {
     "data": {
      "text/html": [
       "<div>\n",
       "<style scoped>\n",
       "    .dataframe tbody tr th:only-of-type {\n",
       "        vertical-align: middle;\n",
       "    }\n",
       "\n",
       "    .dataframe tbody tr th {\n",
       "        vertical-align: top;\n",
       "    }\n",
       "\n",
       "    .dataframe thead th {\n",
       "        text-align: right;\n",
       "    }\n",
       "</style>\n",
       "<table border=\"1\" class=\"dataframe\">\n",
       "  <thead>\n",
       "    <tr style=\"text-align: right;\">\n",
       "      <th></th>\n",
       "      <th>product_id</th>\n",
       "      <th>product_name</th>\n",
       "      <th>aisle_id</th>\n",
       "      <th>department_id</th>\n",
       "    </tr>\n",
       "  </thead>\n",
       "  <tbody>\n",
       "    <tr>\n",
       "      <th>71</th>\n",
       "      <td>72</td>\n",
       "      <td>NaN</td>\n",
       "      <td>100</td>\n",
       "      <td>21</td>\n",
       "    </tr>\n",
       "    <tr>\n",
       "      <th>109</th>\n",
       "      <td>110</td>\n",
       "      <td>NaN</td>\n",
       "      <td>100</td>\n",
       "      <td>21</td>\n",
       "    </tr>\n",
       "    <tr>\n",
       "      <th>296</th>\n",
       "      <td>297</td>\n",
       "      <td>NaN</td>\n",
       "      <td>100</td>\n",
       "      <td>21</td>\n",
       "    </tr>\n",
       "    <tr>\n",
       "      <th>416</th>\n",
       "      <td>417</td>\n",
       "      <td>NaN</td>\n",
       "      <td>100</td>\n",
       "      <td>21</td>\n",
       "    </tr>\n",
       "    <tr>\n",
       "      <th>436</th>\n",
       "      <td>437</td>\n",
       "      <td>NaN</td>\n",
       "      <td>100</td>\n",
       "      <td>21</td>\n",
       "    </tr>\n",
       "    <tr>\n",
       "      <th>...</th>\n",
       "      <td>...</td>\n",
       "      <td>...</td>\n",
       "      <td>...</td>\n",
       "      <td>...</td>\n",
       "    </tr>\n",
       "    <tr>\n",
       "      <th>49689</th>\n",
       "      <td>49690</td>\n",
       "      <td>high performance energy drink</td>\n",
       "      <td>64</td>\n",
       "      <td>7</td>\n",
       "    </tr>\n",
       "    <tr>\n",
       "      <th>49690</th>\n",
       "      <td>49691</td>\n",
       "      <td>original pancake &amp; waffle mix</td>\n",
       "      <td>130</td>\n",
       "      <td>14</td>\n",
       "    </tr>\n",
       "    <tr>\n",
       "      <th>49691</th>\n",
       "      <td>49692</td>\n",
       "      <td>organic instant oatmeal light maple brown sugar</td>\n",
       "      <td>130</td>\n",
       "      <td>14</td>\n",
       "    </tr>\n",
       "    <tr>\n",
       "      <th>49692</th>\n",
       "      <td>49693</td>\n",
       "      <td>spring water body wash</td>\n",
       "      <td>127</td>\n",
       "      <td>11</td>\n",
       "    </tr>\n",
       "    <tr>\n",
       "      <th>49693</th>\n",
       "      <td>49694</td>\n",
       "      <td>burrito- steak &amp; cheese</td>\n",
       "      <td>38</td>\n",
       "      <td>1</td>\n",
       "    </tr>\n",
       "  </tbody>\n",
       "</table>\n",
       "<p>1361 rows × 4 columns</p>\n",
       "</div>"
      ],
      "text/plain": [
       "       product_id                                     product_name  aisle_id  \\\n",
       "71             72                                              NaN       100   \n",
       "109           110                                              NaN       100   \n",
       "296           297                                              NaN       100   \n",
       "416           417                                              NaN       100   \n",
       "436           437                                              NaN       100   \n",
       "...           ...                                              ...       ...   \n",
       "49689       49690                    high performance energy drink        64   \n",
       "49690       49691                    original pancake & waffle mix       130   \n",
       "49691       49692  organic instant oatmeal light maple brown sugar       130   \n",
       "49692       49693                           spring water body wash       127   \n",
       "49693       49694                          burrito- steak & cheese        38   \n",
       "\n",
       "       department_id  \n",
       "71                21  \n",
       "109               21  \n",
       "296               21  \n",
       "416               21  \n",
       "436               21  \n",
       "...              ...  \n",
       "49689              7  \n",
       "49690             14  \n",
       "49691             14  \n",
       "49692             11  \n",
       "49693              1  \n",
       "\n",
       "[1361 rows x 4 columns]"
      ]
     },
     "execution_count": 16,
     "metadata": {},
     "output_type": "execute_result"
    }
   ],
   "source": [
    "products_df[products_df.duplicated(subset='product_name', keep='first')]\n",
    "# Verifique os nomes de produtos duplicados que não estão faltando"
   ]
  },
  {
   "cell_type": "markdown",
   "id": "9da8d293",
   "metadata": {
    "id": "9da8d293"
   },
   "source": [
    "Não há nomes duplicados, porém, há muitos produtos com o nome ausente representados por NaN."
   ]
  },
  {
   "cell_type": "markdown",
   "id": "93dadbf6",
   "metadata": {},
   "source": [
    "<div class=\"alert alert-block alert-warning\">\n",
    "<b> Comentário do revisor: </b> <a class=\"tocSkip\"></a>\n",
    "\n",
    "O estudante verificou a existência de atributos duplicados no conjunto de dados de produto. \n",
    "\n",
    "<br>\n",
    "\n",
    "Uma outra forma de verificar se existem valores duplicados para um atributo e também verificar qual valor está sendo repetido:\n",
    "        ```dataframe[attr].value_counts()```\n",
    "</div>"
   ]
  },
  {
   "cell_type": "markdown",
   "id": "60f30db1",
   "metadata": {
    "id": "60f30db1"
   },
   "source": [
    "### DataFrame `departments`"
   ]
  },
  {
   "cell_type": "code",
   "execution_count": 17,
   "id": "fb410ad4-0fbf-4b80-bb09-23fdea79afe3",
   "metadata": {
    "id": "fb410ad4-0fbf-4b80-bb09-23fdea79afe3"
   },
   "outputs": [
    {
     "data": {
      "text/plain": [
       "False    21\n",
       "dtype: int64"
      ]
     },
     "execution_count": 17,
     "metadata": {},
     "output_type": "execute_result"
    }
   ],
   "source": [
    "departments_df.duplicated(keep=False).value_counts()\n",
    "    #Verifique se há linhas completamente duplicadas"
   ]
  },
  {
   "cell_type": "code",
   "execution_count": 18,
   "id": "332b12bb",
   "metadata": {
    "id": "332b12bb"
   },
   "outputs": [
    {
     "data": {
      "text/html": [
       "<div>\n",
       "<style scoped>\n",
       "    .dataframe tbody tr th:only-of-type {\n",
       "        vertical-align: middle;\n",
       "    }\n",
       "\n",
       "    .dataframe tbody tr th {\n",
       "        vertical-align: top;\n",
       "    }\n",
       "\n",
       "    .dataframe thead th {\n",
       "        text-align: right;\n",
       "    }\n",
       "</style>\n",
       "<table border=\"1\" class=\"dataframe\">\n",
       "  <thead>\n",
       "    <tr style=\"text-align: right;\">\n",
       "      <th></th>\n",
       "      <th>department_id</th>\n",
       "      <th>department</th>\n",
       "    </tr>\n",
       "  </thead>\n",
       "  <tbody>\n",
       "  </tbody>\n",
       "</table>\n",
       "</div>"
      ],
      "text/plain": [
       "Empty DataFrame\n",
       "Columns: [department_id, department]\n",
       "Index: []"
      ]
     },
     "execution_count": 18,
     "metadata": {},
     "output_type": "execute_result"
    }
   ],
   "source": [
    "departments_df[departments_df.duplicated(subset = 'department_id', keep = False)]\n",
    "# Verifique apenas se há IDs dos produtos duplicados"
   ]
  },
  {
   "cell_type": "markdown",
   "id": "bd30d78e",
   "metadata": {
    "id": "bd30d78e"
   },
   "source": [
    "Não há valores duplicados para este arquivo, não sendo necessário qualquer tratamento nos dados."
   ]
  },
  {
   "cell_type": "markdown",
   "id": "76926861",
   "metadata": {},
   "source": [
    "<div class=\"alert alert-block alert-success\">\n",
    "<b> Comentário do revisor: </b> <a class=\"tocSkip\"></a>\n",
    "\n",
    "O estudante verificou a existência de atributos com valores duplicados no conjunto de dados `departments`.\n",
    "</div>"
   ]
  },
  {
   "cell_type": "markdown",
   "id": "889349c1",
   "metadata": {
    "id": "889349c1"
   },
   "source": [
    "### DataFrame `aisles`"
   ]
  },
  {
   "cell_type": "code",
   "execution_count": 19,
   "id": "9da89fb9-4679-40f5-ad0d-c34df753a3f8",
   "metadata": {
    "id": "9da89fb9-4679-40f5-ad0d-c34df753a3f8"
   },
   "outputs": [
    {
     "data": {
      "text/plain": [
       "False    134\n",
       "dtype: int64"
      ]
     },
     "execution_count": 19,
     "metadata": {},
     "output_type": "execute_result"
    }
   ],
   "source": [
    "aisles_df.duplicated(keep=False).value_counts()\n",
    "# Verifique se há linhas completamente duplicadas"
   ]
  },
  {
   "cell_type": "code",
   "execution_count": 20,
   "id": "da7c2822",
   "metadata": {
    "id": "da7c2822"
   },
   "outputs": [
    {
     "data": {
      "text/plain": [
       "False    134\n",
       "dtype: int64"
      ]
     },
     "execution_count": 20,
     "metadata": {},
     "output_type": "execute_result"
    }
   ],
   "source": [
    "aisles_df.duplicated(subset=['aisle_id']).value_counts()\n",
    "# Verifique apenas se há IDs dos produtos duplicados"
   ]
  },
  {
   "cell_type": "markdown",
   "id": "ac63826f",
   "metadata": {
    "id": "ac63826f"
   },
   "source": [
    "Não há valores duplicados para este arquivo, não sendo necessário qualquer tratamento nos dados."
   ]
  },
  {
   "cell_type": "markdown",
   "id": "12e6e561",
   "metadata": {},
   "source": [
    "<div class=\"alert alert-block alert-success\">\n",
    "<b> Comentário do revisor: </b> <a class=\"tocSkip\"></a>\n",
    "\n",
    "O estudante verificou a existência de atributos com valores duplicados no conjunto de dados `aisles`.\n",
    "</div>"
   ]
  },
  {
   "cell_type": "markdown",
   "id": "274cd06a",
   "metadata": {
    "id": "274cd06a"
   },
   "source": [
    "### DataFrame `order_products`"
   ]
  },
  {
   "cell_type": "code",
   "execution_count": 21,
   "id": "52326689-84a8-4b8f-a881-7c68780f62c9",
   "metadata": {
    "id": "52326689-84a8-4b8f-a881-7c68780f62c9"
   },
   "outputs": [
    {
     "data": {
      "text/plain": [
       "False    4545007\n",
       "dtype: int64"
      ]
     },
     "execution_count": 21,
     "metadata": {},
     "output_type": "execute_result"
    }
   ],
   "source": [
    "order_products_df.duplicated(keep=False).value_counts()\n",
    "# Verifique se há linhas completamente duplicadas"
   ]
  },
  {
   "cell_type": "code",
   "execution_count": 22,
   "id": "7b861391",
   "metadata": {
    "id": "7b861391"
   },
   "outputs": [
    {
     "data": {
      "text/plain": [
       "False    4545007\n",
       "dtype: int64"
      ]
     },
     "execution_count": 22,
     "metadata": {},
     "output_type": "execute_result"
    }
   ],
   "source": [
    "order_products_df.duplicated(subset=['order_id', 'product_id'], keep=False).value_counts()\n",
    "# Verifique mais uma vez se há outros casos complicados de duplicados"
   ]
  },
  {
   "cell_type": "markdown",
   "id": "0b890492",
   "metadata": {
    "id": "0b890492"
   },
   "source": [
    "Não há valores duplicados para este arquivo, não sendo necessário qualquer tratamento nos dados."
   ]
  },
  {
   "cell_type": "markdown",
   "id": "58396e89",
   "metadata": {},
   "source": [
    "<div class=\"alert alert-block alert-success\">\n",
    "<b> Comentário do revisor: </b> <a class=\"tocSkip\"></a>\n",
    "\n",
    "O estudante verificou a existência de atributos com valores duplicados no conjunto de dados `order_products`.\n",
    "</div>"
   ]
  },
  {
   "cell_type": "markdown",
   "id": "1e46de76",
   "metadata": {
    "id": "1e46de76"
   },
   "source": [
    "## Encontre e remova valores ausentes\n",
    "\n",
    "\n",
    "Ao processarmos valores duplicados, observamos que também temos valores ausentes que precisamos investigar nas seguintes colunas:\n",
    "\n",
    "*\tA coluna `'product_name'` da tabela products.\n",
    "*\tA coluna `'days_since_prior_order'` da tabela orders.\n",
    "*\tA coluna `'add_to_cart_order'` da tabela order_products.\n"
   ]
  },
  {
   "cell_type": "markdown",
   "id": "c0aebd78",
   "metadata": {
    "id": "c0aebd78"
   },
   "source": [
    "### DataFrame `products`"
   ]
  },
  {
   "cell_type": "code",
   "execution_count": 23,
   "id": "fe4a8b0f",
   "metadata": {
    "id": "fe4a8b0f"
   },
   "outputs": [
    {
     "data": {
      "text/html": [
       "<div>\n",
       "<style scoped>\n",
       "    .dataframe tbody tr th:only-of-type {\n",
       "        vertical-align: middle;\n",
       "    }\n",
       "\n",
       "    .dataframe tbody tr th {\n",
       "        vertical-align: top;\n",
       "    }\n",
       "\n",
       "    .dataframe thead th {\n",
       "        text-align: right;\n",
       "    }\n",
       "</style>\n",
       "<table border=\"1\" class=\"dataframe\">\n",
       "  <thead>\n",
       "    <tr style=\"text-align: right;\">\n",
       "      <th></th>\n",
       "      <th>product_id</th>\n",
       "      <th>product_name</th>\n",
       "      <th>aisle_id</th>\n",
       "      <th>department_id</th>\n",
       "    </tr>\n",
       "  </thead>\n",
       "  <tbody>\n",
       "    <tr>\n",
       "      <th>37</th>\n",
       "      <td>38</td>\n",
       "      <td>NaN</td>\n",
       "      <td>100</td>\n",
       "      <td>21</td>\n",
       "    </tr>\n",
       "    <tr>\n",
       "      <th>71</th>\n",
       "      <td>72</td>\n",
       "      <td>NaN</td>\n",
       "      <td>100</td>\n",
       "      <td>21</td>\n",
       "    </tr>\n",
       "    <tr>\n",
       "      <th>109</th>\n",
       "      <td>110</td>\n",
       "      <td>NaN</td>\n",
       "      <td>100</td>\n",
       "      <td>21</td>\n",
       "    </tr>\n",
       "    <tr>\n",
       "      <th>296</th>\n",
       "      <td>297</td>\n",
       "      <td>NaN</td>\n",
       "      <td>100</td>\n",
       "      <td>21</td>\n",
       "    </tr>\n",
       "    <tr>\n",
       "      <th>416</th>\n",
       "      <td>417</td>\n",
       "      <td>NaN</td>\n",
       "      <td>100</td>\n",
       "      <td>21</td>\n",
       "    </tr>\n",
       "    <tr>\n",
       "      <th>...</th>\n",
       "      <td>...</td>\n",
       "      <td>...</td>\n",
       "      <td>...</td>\n",
       "      <td>...</td>\n",
       "    </tr>\n",
       "    <tr>\n",
       "      <th>49552</th>\n",
       "      <td>49553</td>\n",
       "      <td>NaN</td>\n",
       "      <td>100</td>\n",
       "      <td>21</td>\n",
       "    </tr>\n",
       "    <tr>\n",
       "      <th>49574</th>\n",
       "      <td>49575</td>\n",
       "      <td>NaN</td>\n",
       "      <td>100</td>\n",
       "      <td>21</td>\n",
       "    </tr>\n",
       "    <tr>\n",
       "      <th>49640</th>\n",
       "      <td>49641</td>\n",
       "      <td>NaN</td>\n",
       "      <td>100</td>\n",
       "      <td>21</td>\n",
       "    </tr>\n",
       "    <tr>\n",
       "      <th>49663</th>\n",
       "      <td>49664</td>\n",
       "      <td>NaN</td>\n",
       "      <td>100</td>\n",
       "      <td>21</td>\n",
       "    </tr>\n",
       "    <tr>\n",
       "      <th>49668</th>\n",
       "      <td>49669</td>\n",
       "      <td>NaN</td>\n",
       "      <td>100</td>\n",
       "      <td>21</td>\n",
       "    </tr>\n",
       "  </tbody>\n",
       "</table>\n",
       "<p>1258 rows × 4 columns</p>\n",
       "</div>"
      ],
      "text/plain": [
       "       product_id product_name  aisle_id  department_id\n",
       "37             38          NaN       100             21\n",
       "71             72          NaN       100             21\n",
       "109           110          NaN       100             21\n",
       "296           297          NaN       100             21\n",
       "416           417          NaN       100             21\n",
       "...           ...          ...       ...            ...\n",
       "49552       49553          NaN       100             21\n",
       "49574       49575          NaN       100             21\n",
       "49640       49641          NaN       100             21\n",
       "49663       49664          NaN       100             21\n",
       "49668       49669          NaN       100             21\n",
       "\n",
       "[1258 rows x 4 columns]"
      ]
     },
     "execution_count": 23,
     "metadata": {},
     "output_type": "execute_result"
    }
   ],
   "source": [
    "products_df[products_df['product_name'].isna()]\n",
    "# Encontre valores ausentes na coluna 'product_name'"
   ]
  },
  {
   "cell_type": "markdown",
   "id": "-A6x1AbJhjkp",
   "metadata": {
    "id": "-A6x1AbJhjkp"
   },
   "source": [
    "Podemos ver que a coluna 'product_name', 'aisle_id' e 'department_id' possuem uma correlação nas informações."
   ]
  },
  {
   "cell_type": "code",
   "execution_count": 24,
   "id": "e96167bc",
   "metadata": {
    "id": "e96167bc"
   },
   "outputs": [
    {
     "data": {
      "text/plain": [
       "product_id       False\n",
       "product_name     False\n",
       "aisle_id          True\n",
       "department_id    False\n",
       "dtype: bool"
      ]
     },
     "execution_count": 24,
     "metadata": {},
     "output_type": "execute_result"
    }
   ],
   "source": [
    "products_df[products_df['product_name'].isna()].eq(100).all()\n",
    "# Todos os nomes de produtos ausentes estão associados com a seção de ID 100?"
   ]
  },
  {
   "cell_type": "markdown",
   "id": "WRpIfXRphpSL",
   "metadata": {
    "id": "WRpIfXRphpSL"
   },
   "source": [
    "Através disso conseguimos ver que os produtos ausente estão associados a seção de ID 100."
   ]
  },
  {
   "cell_type": "code",
   "execution_count": 25,
   "id": "8fd0a541",
   "metadata": {
    "id": "8fd0a541"
   },
   "outputs": [
    {
     "data": {
      "text/plain": [
       "product_id       True\n",
       "product_name     True\n",
       "aisle_id         True\n",
       "department_id    True\n",
       "dtype: bool"
      ]
     },
     "execution_count": 25,
     "metadata": {},
     "output_type": "execute_result"
    }
   ],
   "source": [
    "products_df[products_df['product_name'].isna()==21].all()\n",
    "# Todos os nomes de produtos ausentes estão associados com o departamento de ID 21?"
   ]
  },
  {
   "cell_type": "markdown",
   "id": "qDpdYn1Fht_I",
   "metadata": {
    "id": "qDpdYn1Fht_I"
   },
   "source": [
    "Através disso conseguimos ver que os produtos ausente estão também ao departamento de ID 21."
   ]
  },
  {
   "cell_type": "markdown",
   "id": "ef0d74d9",
   "metadata": {},
   "source": [
    "<div class=\"alert alert-block alert-warning\">\n",
    "<b> Comentário do revisor: </b> <a class=\"tocSkip\"></a>\n",
    "\n",
    "O estudante verificou a existência de valores faltantes para o conjunto de dados `products`. Uma outra forma de verificar a quantidade de valores nulos por atributo: ```dataframe.isna().sum()``` ou ```dataframe.groupby('column', dropna=False).sum()```. \n",
    "   \n",
    "<br>\n",
    "    \n",
    "Obs.: Isso é só uma sugestão, não é necessário que você implemente dessa forma para passar no projeto, mas lembre dessas possbilidades para projetos futuros\n",
    "\n",
    "</div>"
   ]
  },
  {
   "cell_type": "code",
   "execution_count": 26,
   "id": "325c3464",
   "metadata": {
    "id": "325c3464"
   },
   "outputs": [
    {
     "data": {
      "text/html": [
       "<div>\n",
       "<style scoped>\n",
       "    .dataframe tbody tr th:only-of-type {\n",
       "        vertical-align: middle;\n",
       "    }\n",
       "\n",
       "    .dataframe tbody tr th {\n",
       "        vertical-align: top;\n",
       "    }\n",
       "\n",
       "    .dataframe thead th {\n",
       "        text-align: right;\n",
       "    }\n",
       "</style>\n",
       "<table border=\"1\" class=\"dataframe\">\n",
       "  <thead>\n",
       "    <tr style=\"text-align: right;\">\n",
       "      <th></th>\n",
       "      <th>product_id</th>\n",
       "      <th>product_name</th>\n",
       "      <th>aisle_id</th>\n",
       "      <th>department_id</th>\n",
       "    </tr>\n",
       "  </thead>\n",
       "  <tbody>\n",
       "    <tr>\n",
       "      <th>37</th>\n",
       "      <td>38</td>\n",
       "      <td>NaN</td>\n",
       "      <td>100</td>\n",
       "      <td>21</td>\n",
       "    </tr>\n",
       "    <tr>\n",
       "      <th>71</th>\n",
       "      <td>72</td>\n",
       "      <td>NaN</td>\n",
       "      <td>100</td>\n",
       "      <td>21</td>\n",
       "    </tr>\n",
       "    <tr>\n",
       "      <th>109</th>\n",
       "      <td>110</td>\n",
       "      <td>NaN</td>\n",
       "      <td>100</td>\n",
       "      <td>21</td>\n",
       "    </tr>\n",
       "    <tr>\n",
       "      <th>296</th>\n",
       "      <td>297</td>\n",
       "      <td>NaN</td>\n",
       "      <td>100</td>\n",
       "      <td>21</td>\n",
       "    </tr>\n",
       "    <tr>\n",
       "      <th>416</th>\n",
       "      <td>417</td>\n",
       "      <td>NaN</td>\n",
       "      <td>100</td>\n",
       "      <td>21</td>\n",
       "    </tr>\n",
       "    <tr>\n",
       "      <th>...</th>\n",
       "      <td>...</td>\n",
       "      <td>...</td>\n",
       "      <td>...</td>\n",
       "      <td>...</td>\n",
       "    </tr>\n",
       "    <tr>\n",
       "      <th>49552</th>\n",
       "      <td>49553</td>\n",
       "      <td>NaN</td>\n",
       "      <td>100</td>\n",
       "      <td>21</td>\n",
       "    </tr>\n",
       "    <tr>\n",
       "      <th>49574</th>\n",
       "      <td>49575</td>\n",
       "      <td>NaN</td>\n",
       "      <td>100</td>\n",
       "      <td>21</td>\n",
       "    </tr>\n",
       "    <tr>\n",
       "      <th>49640</th>\n",
       "      <td>49641</td>\n",
       "      <td>NaN</td>\n",
       "      <td>100</td>\n",
       "      <td>21</td>\n",
       "    </tr>\n",
       "    <tr>\n",
       "      <th>49663</th>\n",
       "      <td>49664</td>\n",
       "      <td>NaN</td>\n",
       "      <td>100</td>\n",
       "      <td>21</td>\n",
       "    </tr>\n",
       "    <tr>\n",
       "      <th>49668</th>\n",
       "      <td>49669</td>\n",
       "      <td>NaN</td>\n",
       "      <td>100</td>\n",
       "      <td>21</td>\n",
       "    </tr>\n",
       "  </tbody>\n",
       "</table>\n",
       "<p>1258 rows × 4 columns</p>\n",
       "</div>"
      ],
      "text/plain": [
       "       product_id product_name  aisle_id  department_id\n",
       "37             38          NaN       100             21\n",
       "71             72          NaN       100             21\n",
       "109           110          NaN       100             21\n",
       "296           297          NaN       100             21\n",
       "416           417          NaN       100             21\n",
       "...           ...          ...       ...            ...\n",
       "49552       49553          NaN       100             21\n",
       "49574       49575          NaN       100             21\n",
       "49640       49641          NaN       100             21\n",
       "49663       49664          NaN       100             21\n",
       "49668       49669          NaN       100             21\n",
       "\n",
       "[1258 rows x 4 columns]"
      ]
     },
     "execution_count": 26,
     "metadata": {},
     "output_type": "execute_result"
    }
   ],
   "source": [
    "products_df[(products_df['aisle_id']==100)&(products_df['department_id'] == 21)]\n",
    "# Use as tabelas de departamentos e seções para verificar os dados da seção ID 100 e do departamento ID 21."
   ]
  },
  {
   "cell_type": "markdown",
   "id": "nqhSTUPhhvEJ",
   "metadata": {
    "id": "nqhSTUPhhvEJ"
   },
   "source": [
    "Através disso é possível ver que os produtos ausentes estão diretamente ligados ao departamento de ID 21 e a seção de ID 100."
   ]
  },
  {
   "cell_type": "code",
   "execution_count": 27,
   "id": "6b295120",
   "metadata": {
    "id": "6b295120"
   },
   "outputs": [
    {
     "name": "stdout",
     "output_type": "stream",
     "text": [
      "       product_id product_name  aisle_id  department_id\n",
      "37             38      Unknown       100             21\n",
      "71             72      Unknown       100             21\n",
      "109           110      Unknown       100             21\n",
      "296           297      Unknown       100             21\n",
      "416           417      Unknown       100             21\n",
      "...           ...          ...       ...            ...\n",
      "49552       49553      Unknown       100             21\n",
      "49574       49575      Unknown       100             21\n",
      "49640       49641      Unknown       100             21\n",
      "49663       49664      Unknown       100             21\n",
      "49668       49669      Unknown       100             21\n",
      "\n",
      "[1258 rows x 4 columns]\n"
     ]
    }
   ],
   "source": [
    "products_df['product_name'].fillna('Unknown', inplace=True)\n",
    "unknown_products = products_df[products_df['product_name'] == 'Unknown']\n",
    "print(unknown_products)\n",
    "# Preencha nomes de produtos ausentes com 'Unknown'"
   ]
  },
  {
   "cell_type": "markdown",
   "id": "fc70e5ad",
   "metadata": {
    "id": "fc70e5ad"
   },
   "source": [
    "Os produtos ausentes estão diretamente ligados ao departamento de ID 21 e a seção de ID 100."
   ]
  },
  {
   "cell_type": "markdown",
   "id": "7eb45c86",
   "metadata": {
    "id": "7eb45c86"
   },
   "source": [
    "### DataFrame `orders`"
   ]
  },
  {
   "cell_type": "code",
   "execution_count": 28,
   "id": "93e41d96",
   "metadata": {
    "id": "93e41d96"
   },
   "outputs": [
    {
     "data": {
      "text/html": [
       "<div>\n",
       "<style scoped>\n",
       "    .dataframe tbody tr th:only-of-type {\n",
       "        vertical-align: middle;\n",
       "    }\n",
       "\n",
       "    .dataframe tbody tr th {\n",
       "        vertical-align: top;\n",
       "    }\n",
       "\n",
       "    .dataframe thead th {\n",
       "        text-align: right;\n",
       "    }\n",
       "</style>\n",
       "<table border=\"1\" class=\"dataframe\">\n",
       "  <thead>\n",
       "    <tr style=\"text-align: right;\">\n",
       "      <th></th>\n",
       "      <th>order_id</th>\n",
       "      <th>user_id</th>\n",
       "      <th>order_number</th>\n",
       "      <th>order_dow</th>\n",
       "      <th>order_hour_of_day</th>\n",
       "      <th>days_since_prior_order</th>\n",
       "    </tr>\n",
       "  </thead>\n",
       "  <tbody>\n",
       "    <tr>\n",
       "      <th>28</th>\n",
       "      <td>133707</td>\n",
       "      <td>182261</td>\n",
       "      <td>1</td>\n",
       "      <td>3</td>\n",
       "      <td>10</td>\n",
       "      <td>NaN</td>\n",
       "    </tr>\n",
       "    <tr>\n",
       "      <th>96</th>\n",
       "      <td>787445</td>\n",
       "      <td>25685</td>\n",
       "      <td>1</td>\n",
       "      <td>6</td>\n",
       "      <td>18</td>\n",
       "      <td>NaN</td>\n",
       "    </tr>\n",
       "    <tr>\n",
       "      <th>100</th>\n",
       "      <td>294410</td>\n",
       "      <td>111449</td>\n",
       "      <td>1</td>\n",
       "      <td>0</td>\n",
       "      <td>19</td>\n",
       "      <td>NaN</td>\n",
       "    </tr>\n",
       "    <tr>\n",
       "      <th>103</th>\n",
       "      <td>2869915</td>\n",
       "      <td>123958</td>\n",
       "      <td>1</td>\n",
       "      <td>4</td>\n",
       "      <td>16</td>\n",
       "      <td>NaN</td>\n",
       "    </tr>\n",
       "    <tr>\n",
       "      <th>104</th>\n",
       "      <td>2521921</td>\n",
       "      <td>42286</td>\n",
       "      <td>1</td>\n",
       "      <td>3</td>\n",
       "      <td>18</td>\n",
       "      <td>NaN</td>\n",
       "    </tr>\n",
       "    <tr>\n",
       "      <th>...</th>\n",
       "      <td>...</td>\n",
       "      <td>...</td>\n",
       "      <td>...</td>\n",
       "      <td>...</td>\n",
       "      <td>...</td>\n",
       "      <td>...</td>\n",
       "    </tr>\n",
       "    <tr>\n",
       "      <th>478895</th>\n",
       "      <td>2589657</td>\n",
       "      <td>205028</td>\n",
       "      <td>1</td>\n",
       "      <td>0</td>\n",
       "      <td>16</td>\n",
       "      <td>NaN</td>\n",
       "    </tr>\n",
       "    <tr>\n",
       "      <th>478896</th>\n",
       "      <td>2222353</td>\n",
       "      <td>141211</td>\n",
       "      <td>1</td>\n",
       "      <td>2</td>\n",
       "      <td>13</td>\n",
       "      <td>NaN</td>\n",
       "    </tr>\n",
       "    <tr>\n",
       "      <th>478922</th>\n",
       "      <td>2272807</td>\n",
       "      <td>204154</td>\n",
       "      <td>1</td>\n",
       "      <td>1</td>\n",
       "      <td>15</td>\n",
       "      <td>NaN</td>\n",
       "    </tr>\n",
       "    <tr>\n",
       "      <th>478926</th>\n",
       "      <td>2499542</td>\n",
       "      <td>68810</td>\n",
       "      <td>1</td>\n",
       "      <td>4</td>\n",
       "      <td>19</td>\n",
       "      <td>NaN</td>\n",
       "    </tr>\n",
       "    <tr>\n",
       "      <th>478945</th>\n",
       "      <td>1387033</td>\n",
       "      <td>22496</td>\n",
       "      <td>1</td>\n",
       "      <td>5</td>\n",
       "      <td>14</td>\n",
       "      <td>NaN</td>\n",
       "    </tr>\n",
       "  </tbody>\n",
       "</table>\n",
       "<p>28817 rows × 6 columns</p>\n",
       "</div>"
      ],
      "text/plain": [
       "        order_id  user_id  order_number  order_dow  order_hour_of_day  \\\n",
       "28        133707   182261             1          3                 10   \n",
       "96        787445    25685             1          6                 18   \n",
       "100       294410   111449             1          0                 19   \n",
       "103      2869915   123958             1          4                 16   \n",
       "104      2521921    42286             1          3                 18   \n",
       "...          ...      ...           ...        ...                ...   \n",
       "478895   2589657   205028             1          0                 16   \n",
       "478896   2222353   141211             1          2                 13   \n",
       "478922   2272807   204154             1          1                 15   \n",
       "478926   2499542    68810             1          4                 19   \n",
       "478945   1387033    22496             1          5                 14   \n",
       "\n",
       "        days_since_prior_order  \n",
       "28                         NaN  \n",
       "96                         NaN  \n",
       "100                        NaN  \n",
       "103                        NaN  \n",
       "104                        NaN  \n",
       "...                        ...  \n",
       "478895                     NaN  \n",
       "478896                     NaN  \n",
       "478922                     NaN  \n",
       "478926                     NaN  \n",
       "478945                     NaN  \n",
       "\n",
       "[28817 rows x 6 columns]"
      ]
     },
     "execution_count": 28,
     "metadata": {},
     "output_type": "execute_result"
    }
   ],
   "source": [
    "orders_df[orders_df['days_since_prior_order'].isna()]\n",
    "# Encontre os valores ausentes"
   ]
  },
  {
   "cell_type": "code",
   "execution_count": 29,
   "id": "166e5a86",
   "metadata": {
    "id": "166e5a86"
   },
   "outputs": [
    {
     "data": {
      "text/html": [
       "<div>\n",
       "<style scoped>\n",
       "    .dataframe tbody tr th:only-of-type {\n",
       "        vertical-align: middle;\n",
       "    }\n",
       "\n",
       "    .dataframe tbody tr th {\n",
       "        vertical-align: top;\n",
       "    }\n",
       "\n",
       "    .dataframe thead th {\n",
       "        text-align: right;\n",
       "    }\n",
       "</style>\n",
       "<table border=\"1\" class=\"dataframe\">\n",
       "  <thead>\n",
       "    <tr style=\"text-align: right;\">\n",
       "      <th></th>\n",
       "      <th>order_id</th>\n",
       "      <th>user_id</th>\n",
       "      <th>order_number</th>\n",
       "      <th>order_dow</th>\n",
       "      <th>order_hour_of_day</th>\n",
       "      <th>days_since_prior_order</th>\n",
       "    </tr>\n",
       "  </thead>\n",
       "  <tbody>\n",
       "    <tr>\n",
       "      <th>0</th>\n",
       "      <td>1515936</td>\n",
       "      <td>183418</td>\n",
       "      <td>11</td>\n",
       "      <td>6</td>\n",
       "      <td>13</td>\n",
       "      <td>30.0</td>\n",
       "    </tr>\n",
       "    <tr>\n",
       "      <th>1</th>\n",
       "      <td>1690866</td>\n",
       "      <td>163593</td>\n",
       "      <td>5</td>\n",
       "      <td>5</td>\n",
       "      <td>12</td>\n",
       "      <td>9.0</td>\n",
       "    </tr>\n",
       "    <tr>\n",
       "      <th>2</th>\n",
       "      <td>1454967</td>\n",
       "      <td>39980</td>\n",
       "      <td>4</td>\n",
       "      <td>5</td>\n",
       "      <td>19</td>\n",
       "      <td>2.0</td>\n",
       "    </tr>\n",
       "    <tr>\n",
       "      <th>3</th>\n",
       "      <td>1768857</td>\n",
       "      <td>82516</td>\n",
       "      <td>56</td>\n",
       "      <td>0</td>\n",
       "      <td>20</td>\n",
       "      <td>10.0</td>\n",
       "    </tr>\n",
       "    <tr>\n",
       "      <th>4</th>\n",
       "      <td>3007858</td>\n",
       "      <td>196724</td>\n",
       "      <td>2</td>\n",
       "      <td>4</td>\n",
       "      <td>12</td>\n",
       "      <td>17.0</td>\n",
       "    </tr>\n",
       "    <tr>\n",
       "      <th>...</th>\n",
       "      <td>...</td>\n",
       "      <td>...</td>\n",
       "      <td>...</td>\n",
       "      <td>...</td>\n",
       "      <td>...</td>\n",
       "      <td>...</td>\n",
       "    </tr>\n",
       "    <tr>\n",
       "      <th>478962</th>\n",
       "      <td>3210681</td>\n",
       "      <td>5617</td>\n",
       "      <td>5</td>\n",
       "      <td>1</td>\n",
       "      <td>14</td>\n",
       "      <td>7.0</td>\n",
       "    </tr>\n",
       "    <tr>\n",
       "      <th>478963</th>\n",
       "      <td>3270802</td>\n",
       "      <td>112087</td>\n",
       "      <td>2</td>\n",
       "      <td>3</td>\n",
       "      <td>13</td>\n",
       "      <td>6.0</td>\n",
       "    </tr>\n",
       "    <tr>\n",
       "      <th>478964</th>\n",
       "      <td>885349</td>\n",
       "      <td>82944</td>\n",
       "      <td>16</td>\n",
       "      <td>2</td>\n",
       "      <td>11</td>\n",
       "      <td>6.0</td>\n",
       "    </tr>\n",
       "    <tr>\n",
       "      <th>478965</th>\n",
       "      <td>216274</td>\n",
       "      <td>4391</td>\n",
       "      <td>3</td>\n",
       "      <td>3</td>\n",
       "      <td>8</td>\n",
       "      <td>8.0</td>\n",
       "    </tr>\n",
       "    <tr>\n",
       "      <th>478966</th>\n",
       "      <td>2071924</td>\n",
       "      <td>1730</td>\n",
       "      <td>18</td>\n",
       "      <td>1</td>\n",
       "      <td>14</td>\n",
       "      <td>15.0</td>\n",
       "    </tr>\n",
       "  </tbody>\n",
       "</table>\n",
       "<p>450135 rows × 6 columns</p>\n",
       "</div>"
      ],
      "text/plain": [
       "        order_id  user_id  order_number  order_dow  order_hour_of_day  \\\n",
       "0        1515936   183418            11          6                 13   \n",
       "1        1690866   163593             5          5                 12   \n",
       "2        1454967    39980             4          5                 19   \n",
       "3        1768857    82516            56          0                 20   \n",
       "4        3007858   196724             2          4                 12   \n",
       "...          ...      ...           ...        ...                ...   \n",
       "478962   3210681     5617             5          1                 14   \n",
       "478963   3270802   112087             2          3                 13   \n",
       "478964    885349    82944            16          2                 11   \n",
       "478965    216274     4391             3          3                  8   \n",
       "478966   2071924     1730            18          1                 14   \n",
       "\n",
       "        days_since_prior_order  \n",
       "0                         30.0  \n",
       "1                          9.0  \n",
       "2                          2.0  \n",
       "3                         10.0  \n",
       "4                         17.0  \n",
       "...                        ...  \n",
       "478962                     7.0  \n",
       "478963                     6.0  \n",
       "478964                     6.0  \n",
       "478965                     8.0  \n",
       "478966                    15.0  \n",
       "\n",
       "[450135 rows x 6 columns]"
      ]
     },
     "execution_count": 29,
     "metadata": {},
     "output_type": "execute_result"
    }
   ],
   "source": [
    "orders_df[~orders_df['order_number'].isin(orders_df['order_number']==1)]\n",
    "# Há valores ausentes para os clientes que não estão fazendo o primeiro pedido?"
   ]
  },
  {
   "cell_type": "markdown",
   "id": "4e23d089",
   "metadata": {
    "id": "4e23d089"
   },
   "source": [
    "Os valores ausentes não estão ligados ao primeiro pedido do cliente, e sim aos demais pedidos. Dando o entendimento que ao primeiro pedido do cliente as informações são preenchidas com mais cuidado e atenção, sendo deixada a desejar nos demais pedidos."
   ]
  },
  {
   "cell_type": "markdown",
   "id": "42499138",
   "metadata": {},
   "source": [
    "<div class=\"alert alert-block alert-success\">\n",
    "<b> Comentário do revisor: </b> <a class=\"tocSkip\"></a>\n",
    "\n",
    "O estudante verificou a existência de valores faltantes para o conjunto de dados `orders`.\n",
    "\n",
    "</div>"
   ]
  },
  {
   "cell_type": "markdown",
   "id": "69dc9ca4",
   "metadata": {
    "id": "69dc9ca4"
   },
   "source": [
    "### DataFrame `order_products`"
   ]
  },
  {
   "cell_type": "code",
   "execution_count": 30,
   "id": "b8240253",
   "metadata": {
    "id": "b8240253"
   },
   "outputs": [
    {
     "data": {
      "text/html": [
       "<div>\n",
       "<style scoped>\n",
       "    .dataframe tbody tr th:only-of-type {\n",
       "        vertical-align: middle;\n",
       "    }\n",
       "\n",
       "    .dataframe tbody tr th {\n",
       "        vertical-align: top;\n",
       "    }\n",
       "\n",
       "    .dataframe thead th {\n",
       "        text-align: right;\n",
       "    }\n",
       "</style>\n",
       "<table border=\"1\" class=\"dataframe\">\n",
       "  <thead>\n",
       "    <tr style=\"text-align: right;\">\n",
       "      <th></th>\n",
       "      <th>order_id</th>\n",
       "      <th>product_id</th>\n",
       "      <th>add_to_cart_order</th>\n",
       "      <th>reordered</th>\n",
       "    </tr>\n",
       "  </thead>\n",
       "  <tbody>\n",
       "    <tr>\n",
       "      <th>737</th>\n",
       "      <td>2449164</td>\n",
       "      <td>5068</td>\n",
       "      <td>NaN</td>\n",
       "      <td>0</td>\n",
       "    </tr>\n",
       "    <tr>\n",
       "      <th>9926</th>\n",
       "      <td>1968313</td>\n",
       "      <td>43867</td>\n",
       "      <td>NaN</td>\n",
       "      <td>0</td>\n",
       "    </tr>\n",
       "    <tr>\n",
       "      <th>14394</th>\n",
       "      <td>2926893</td>\n",
       "      <td>11688</td>\n",
       "      <td>NaN</td>\n",
       "      <td>0</td>\n",
       "    </tr>\n",
       "    <tr>\n",
       "      <th>16418</th>\n",
       "      <td>1717990</td>\n",
       "      <td>4142</td>\n",
       "      <td>NaN</td>\n",
       "      <td>0</td>\n",
       "    </tr>\n",
       "    <tr>\n",
       "      <th>30114</th>\n",
       "      <td>1959075</td>\n",
       "      <td>42828</td>\n",
       "      <td>NaN</td>\n",
       "      <td>1</td>\n",
       "    </tr>\n",
       "    <tr>\n",
       "      <th>...</th>\n",
       "      <td>...</td>\n",
       "      <td>...</td>\n",
       "      <td>...</td>\n",
       "      <td>...</td>\n",
       "    </tr>\n",
       "    <tr>\n",
       "      <th>4505662</th>\n",
       "      <td>1800005</td>\n",
       "      <td>7411</td>\n",
       "      <td>NaN</td>\n",
       "      <td>0</td>\n",
       "    </tr>\n",
       "    <tr>\n",
       "      <th>4511400</th>\n",
       "      <td>1633337</td>\n",
       "      <td>260</td>\n",
       "      <td>NaN</td>\n",
       "      <td>0</td>\n",
       "    </tr>\n",
       "    <tr>\n",
       "      <th>4517562</th>\n",
       "      <td>404157</td>\n",
       "      <td>9517</td>\n",
       "      <td>NaN</td>\n",
       "      <td>0</td>\n",
       "    </tr>\n",
       "    <tr>\n",
       "      <th>4534112</th>\n",
       "      <td>1673227</td>\n",
       "      <td>17835</td>\n",
       "      <td>NaN</td>\n",
       "      <td>0</td>\n",
       "    </tr>\n",
       "    <tr>\n",
       "      <th>4535739</th>\n",
       "      <td>1832957</td>\n",
       "      <td>17949</td>\n",
       "      <td>NaN</td>\n",
       "      <td>1</td>\n",
       "    </tr>\n",
       "  </tbody>\n",
       "</table>\n",
       "<p>836 rows × 4 columns</p>\n",
       "</div>"
      ],
      "text/plain": [
       "         order_id  product_id  add_to_cart_order  reordered\n",
       "737       2449164        5068                NaN          0\n",
       "9926      1968313       43867                NaN          0\n",
       "14394     2926893       11688                NaN          0\n",
       "16418     1717990        4142                NaN          0\n",
       "30114     1959075       42828                NaN          1\n",
       "...           ...         ...                ...        ...\n",
       "4505662   1800005        7411                NaN          0\n",
       "4511400   1633337         260                NaN          0\n",
       "4517562    404157        9517                NaN          0\n",
       "4534112   1673227       17835                NaN          0\n",
       "4535739   1832957       17949                NaN          1\n",
       "\n",
       "[836 rows x 4 columns]"
      ]
     },
     "execution_count": 30,
     "metadata": {},
     "output_type": "execute_result"
    }
   ],
   "source": [
    "order_products_df[order_products_df['add_to_cart_order'].isna()]\n",
    "# Encontre os valores ausentes"
   ]
  },
  {
   "cell_type": "code",
   "execution_count": 31,
   "id": "9a78e5ee",
   "metadata": {
    "id": "9a78e5ee"
   },
   "outputs": [
    {
     "name": "stdout",
     "output_type": "stream",
     "text": [
      "1.0\n",
      "64.0\n"
     ]
    }
   ],
   "source": [
    "min_value = order_products_df['add_to_cart_order'].min()\n",
    "max_value = order_products_df['add_to_cart_order'].max()\n",
    "print(min_value)\n",
    "print(max_value)\n",
    "# Quais são os valores mínimo e máximo dessa coluna?"
   ]
  },
  {
   "cell_type": "markdown",
   "id": "-Z2Ja215jW78",
   "metadata": {
    "id": "-Z2Ja215jW78"
   },
   "source": [
    "Os pedidos que estão com a ordem sequencial ausente (NaN) são em sua maioria, de compras não recorrentes, ou seja, compra de produtos novos."
   ]
  },
  {
   "cell_type": "code",
   "execution_count": 32,
   "id": "ab9d0c2b",
   "metadata": {
    "id": "ab9d0c2b"
   },
   "outputs": [
    {
     "name": "stdout",
     "output_type": "stream",
     "text": [
      "[2449164 1968313 2926893 1717990 1959075  844733   61355  936852  264710\n",
      " 1564093  129627  293169 2849370 1386261 3308010  903110 2136777 3347453\n",
      " 1888628  165801 2094761 1038146 2997021  813364 2256933  171934 2409109\n",
      " 1730767 1169835  733526  404157 3125735  747668 1800005 1961723  871281\n",
      "  388234 1648217 1477139  102236 1021563 1832957 2721963  678116 1220886\n",
      " 1673227 2999801 1633337 2470674 2625444 1677118 2479011 3383594 1183255\n",
      " 1713430 2652650 1598369 1916118  854647 1302315  888470  180546 2621907\n",
      " 1308785 2729254    9310 2170451 2979697 1625713 1529171]\n"
     ]
    }
   ],
   "source": [
    "orders_with_missing_values = order_products_df[order_products_df['add_to_cart_order'].isna()]\n",
    "order_ids_with_missing_values = orders_with_missing_values['order_id'].unique()\n",
    "print(order_ids_with_missing_values)\n",
    "# Salve todos os IDs dos pedidos com pelo menos um valor ausente em 'add_to_cart_order'"
   ]
  },
  {
   "cell_type": "code",
   "execution_count": 33,
   "id": "54c31695",
   "metadata": {
    "id": "54c31695"
   },
   "outputs": [
    {
     "name": "stdout",
     "output_type": "stream",
     "text": [
      "False\n",
      "    order_id  product_id\n",
      "0       9310           1\n",
      "1      61355          63\n",
      "2     102236          31\n",
      "3     129627           5\n",
      "4     165801           6\n",
      "..       ...         ...\n",
      "65   2999801           6\n",
      "66   3125735          22\n",
      "67   3308010          51\n",
      "68   3347453           7\n",
      "69   3383594           5\n",
      "\n",
      "[70 rows x 2 columns]\n",
      "1\n"
     ]
    }
   ],
   "source": [
    "orders_with_missing_values = order_products_df[order_products_df['add_to_cart_order'].isna()]\n",
    "all_orders_above_64_products = all(orders_with_missing_values.groupby('order_id')['product_id'].count() > 64)\n",
    "print(all_orders_above_64_products)\n",
    "# Todos os pedidos com valores ausentes contêm mais de 64 produtos?\n",
    "grouped_orders = orders_with_missing_values.groupby('order_id')['product_id'].count().reset_index()\n",
    "print(grouped_orders)\n",
    "# Agrupe os pedidos com dados ausentes por ID de pedido\n",
    "min_product_count = grouped_orders['product_id'].min()\n",
    "print(min_product_count)\n",
    "# Conte o número de 'product_id' em cada pedido e verifique o valor mínimo da contagem\n"
   ]
  },
  {
   "cell_type": "markdown",
   "id": "p9V6pddtjglj",
   "metadata": {
    "id": "p9V6pddtjglj"
   },
   "source": [
    "Todas as compras com produtos novos e com menos de 64 produtos adicionados, geraram valores ausentes."
   ]
  },
  {
   "cell_type": "code",
   "execution_count": 34,
   "id": "7a987d08",
   "metadata": {
    "id": "7a987d08"
   },
   "outputs": [
    {
     "name": "stdout",
     "output_type": "stream",
     "text": [
      "         order_id  product_id  add_to_cart_order  reordered\n",
      "737       2449164        5068                999          0\n",
      "9926      1968313       43867                999          0\n",
      "14394     2926893       11688                999          0\n",
      "16418     1717990        4142                999          0\n",
      "30114     1959075       42828                999          1\n",
      "...           ...         ...                ...        ...\n",
      "4505662   1800005        7411                999          0\n",
      "4511400   1633337         260                999          0\n",
      "4517562    404157        9517                999          0\n",
      "4534112   1673227       17835                999          0\n",
      "4535739   1832957       17949                999          1\n",
      "\n",
      "[836 rows x 4 columns]\n"
     ]
    }
   ],
   "source": [
    "order_products_df['add_to_cart_order'].fillna(999, inplace=True)\n",
    "order_products_df['add_to_cart_order'] = order_products_df['add_to_cart_order'].astype(int)\n",
    "new_order_products_df = order_products_df[order_products_df['add_to_cart_order'] == 999]\n",
    "print(new_order_products_df)\n",
    "# Substitua valores ausentes na coluna 'add_to_cart_order' por 999 e converta a coluna para o tipo integer"
   ]
  },
  {
   "cell_type": "markdown",
   "id": "fea4bcc7",
   "metadata": {
    "id": "fea4bcc7"
   },
   "source": [
    "Há algum produto novo cadastrado de forma incorreta, no qual, está prejudicando os dados gerados ao ser inserido no carrinho de compras."
   ]
  },
  {
   "cell_type": "markdown",
   "id": "d092221e",
   "metadata": {},
   "source": [
    "<div class=\"alert alert-block alert-success\">\n",
    "<b> Comentário do revisor: </b> <a class=\"tocSkip\"></a>\n",
    "\n",
    "O estudante verificou a existência de valores faltantes para o conjunto de dados `order_products`. É muito comum que processos que envolvam preenchimento manual dos dados gerem inconsistência nas informações preenchidas. O tratamento correto desses dados é uma etapa muito importante de qualquer projeto de Dados.\n",
    "\n",
    "</div>"
   ]
  },
  {
   "cell_type": "markdown",
   "id": "RnplPFY1gSrb",
   "metadata": {
    "id": "RnplPFY1gSrb"
   },
   "source": [
    "## Conclusões\n",
    "\n",
    "Trabalhamos com arquivos que tiveram uma maior atenção nas suas informações iniciais, e arquivos que faltou esta atenção inicial ao ser alimentado, demonstrando assim a importância dos preenchimentos das informações de forma correta, independente da fase da inserção das informações."
   ]
  },
  {
   "cell_type": "markdown",
   "id": "9da59e55",
   "metadata": {},
   "source": [
    "<div class=\"alert alert-block alert-success\">\n",
    "<b> Comentário do revisor: </b> <a class=\"tocSkip\"></a>\n",
    "\n",
    "O estudante verificou a existência de valores duplicados e ausentes para os conjunto de dados analisados.\n",
    "\n",
    "</div>"
   ]
  },
  {
   "cell_type": "markdown",
   "id": "UjrOIwTcz3ri",
   "metadata": {
    "id": "UjrOIwTcz3ri"
   },
   "source": [
    "# Etapa 3:\n",
    "\n",
    "Quando os dados estiverem processados e prontos, execute a seguinte análise:"
   ]
  },
  {
   "cell_type": "markdown",
   "id": "turkish-kidney",
   "metadata": {
    "id": "turkish-kidney"
   },
   "source": [
    "# [A] Fácil (é necessário concluir tudo para passar)\n",
    "\n",
    "1.\tVerifique se os valores nas colunas `'order_hour_of_day'` e `'order_dow'` na tabela `orders` fazem sentido (ou seja, os valores da coluna  `'order_hour_of_day'` variam de 0 a 23 e os da `'order_dow'` variam de 0 a 6).\n",
    "2.\tCrie um gráfico que mostre quantas pessoas fazem pedidos por cada hora do dia.\n",
    "3.\tCrie um gráfico que mostre em que dia da semana as pessoas fazem compras.\n",
    "4.\tCrie um gráfico que mostre quanto tempo as pessoas esperam até fazer seu próximo pedido e comente sobre os valores mínimo e máximo.\n"
   ]
  },
  {
   "cell_type": "markdown",
   "id": "short-capability",
   "metadata": {
    "id": "short-capability"
   },
   "source": [
    "### [A1] Verifique se os valores fazem sentido"
   ]
  },
  {
   "cell_type": "code",
   "execution_count": 35,
   "id": "growing-fruit",
   "metadata": {
    "id": "growing-fruit"
   },
   "outputs": [
    {
     "name": "stdout",
     "output_type": "stream",
     "text": [
      "True\n"
     ]
    }
   ],
   "source": [
    "unique_hours = orders_df['order_hour_of_day'].unique()\n",
    "hour_check = all(0 <= hour <= 23 for hour in unique_hours)\n",
    "print(hour_check)"
   ]
  },
  {
   "cell_type": "code",
   "execution_count": 36,
   "id": "accessory-malaysia",
   "metadata": {
    "id": "accessory-malaysia"
   },
   "outputs": [
    {
     "name": "stdout",
     "output_type": "stream",
     "text": [
      "True\n"
     ]
    }
   ],
   "source": [
    "unique_dow = orders_df['order_dow'].unique()\n",
    "dow_check = all(0 <= dow <= 6 for dow in unique_dow)\n",
    "print(dow_check)"
   ]
  },
  {
   "cell_type": "markdown",
   "id": "hmR2GNQ6lCsX",
   "metadata": {
    "id": "hmR2GNQ6lCsX"
   },
   "source": [
    "Os valores da coluna 'order_hour_of_day' variam de 0 a 23 e os da 'order_dow' variam de 0 a 6."
   ]
  },
  {
   "cell_type": "markdown",
   "id": "29953402",
   "metadata": {},
   "source": [
    "<div class=\"alert alert-block alert-success\">\n",
    "<b> Comentário do revisor: </b> <a class=\"tocSkip\"></a>\n",
    "\n",
    "O estudante verificou corretamente a distribuição dos dados nas columas `order_hour_of_day` e `order_dow`. \n",
    "    \n",
    "</div>"
   ]
  },
  {
   "cell_type": "markdown",
   "id": "a6743a70",
   "metadata": {
    "id": "a6743a70"
   },
   "source": [
    "### [A2] Em que horas do dia as pessoas fazem compras?"
   ]
  },
  {
   "cell_type": "code",
   "execution_count": 37,
   "id": "a36cca27",
   "metadata": {
    "id": "a36cca27"
   },
   "outputs": [
    {
     "data": {
      "image/png": "[encoded data removed]",
      "text/plain": [
       "<Figure size 864x432 with 1 Axes>"
      ]
     },
     "metadata": {
      "needs_background": "light"
     },
     "output_type": "display_data"
    }
   ],
   "source": [
    "import matplotlib.pyplot as plt\n",
    "order_counts_by_hour = orders_df['order_hour_of_day'].value_counts().sort_index()\n",
    "\n",
    "plt.figure(figsize=(12, 6))\n",
    "plt.bar(order_counts_by_hour.index, order_counts_by_hour.values, color='skyblue')\n",
    "plt.xlabel('Hora do Dia')\n",
    "plt.ylabel('Número de Pedidos')\n",
    "plt.title('Número de Pedidos por Hora do Dia')\n",
    "plt.xticks(order_counts_by_hour.index, rotation=45)\n",
    "plt.grid(axis='y', linestyle='--', alpha=0.7)\n",
    "\n",
    "plt.tight_layout()\n",
    "plt.show()"
   ]
  },
  {
   "cell_type": "markdown",
   "id": "11270eed",
   "metadata": {
    "id": "11270eed"
   },
   "source": [
    "O horário ativo de compras é das 8:00 as 18:00, mas o horário de maior pico de compras é as 10:00."
   ]
  },
  {
   "cell_type": "markdown",
   "id": "ebd2d845",
   "metadata": {},
   "source": [
    "<div class=\"alert alert-block alert-success\">\n",
    "<b> Comentário do revisor: </b> <a class=\"tocSkip\"></a>\n",
    "\n",
    "O estudante plotou corretamente a distribuição de compras por horário. O gráfico de distribuição é muito útil para entender o comportamento dos dados e pode te ajudar em muitas situações de análise exploratória.\n",
    "    \n",
    "</div>"
   ]
  },
  {
   "cell_type": "markdown",
   "id": "documented-command",
   "metadata": {
    "id": "documented-command"
   },
   "source": [
    "### [A3] Em que dia da semana as pessoas fazem compras?"
   ]
  },
  {
   "cell_type": "code",
   "execution_count": 38,
   "id": "chief-digit",
   "metadata": {
    "id": "chief-digit"
   },
   "outputs": [
    {
     "data": {
      "image/png": "[encoded data removed]",
      "text/plain": [
       "<Figure size 720x432 with 1 Axes>"
      ]
     },
     "metadata": {
      "needs_background": "light"
     },
     "output_type": "display_data"
    }
   ],
   "source": [
    "order_counts_by_dow = orders_df['order_dow'].value_counts().sort_index()\n",
    "dow_labels = ['Domingo', 'Segunda', 'Terça', 'Quarta', 'Quinta', 'Sexta', 'Sábado']\n",
    "\n",
    "plt.figure(figsize=(10, 6))\n",
    "plt.bar(dow_labels, order_counts_by_dow.values, color='skyblue')\n",
    "plt.xlabel('Dia da Semana')\n",
    "plt.ylabel('Número de Pedidos')\n",
    "plt.title('Número de Pedidos por Dia da Semana')\n",
    "plt.grid(axis='y', linestyle='--', alpha=0.7)\n",
    "\n",
    "plt.tight_layout()\n",
    "plt.show()"
   ]
  },
  {
   "cell_type": "markdown",
   "id": "dominant-lightning",
   "metadata": {
    "id": "dominant-lightning"
   },
   "source": [
    "Aos domingos e segunda são os dias que as pessoas mais fazem compras."
   ]
  },
  {
   "cell_type": "markdown",
   "id": "3c5f4652",
   "metadata": {},
   "source": [
    "<div class=\"alert alert-block alert-success\">\n",
    "<b> Comentário do revisor: </b> <a class=\"tocSkip\"></a>\n",
    "\n",
    "O estudante analisou corretamente a distribuição de compras por dia da semana. Vale destacar que quando não temos esse atributo do dia e usamos a biblioteca `pandas` para extrair o dia da semana da data, o index 0 representa o `Domingo` e assim por diante. \n",
    "\n",
    "<br>\n",
    "    \n",
    "Obs: Excelente gráfico!\n",
    "    \n",
    "</div>"
   ]
  },
  {
   "cell_type": "markdown",
   "id": "cutting-concert",
   "metadata": {
    "id": "cutting-concert"
   },
   "source": [
    "### [A4] Quanto tempo as pessoas esperam até fazer outro pedido?"
   ]
  },
  {
   "cell_type": "code",
   "execution_count": 39,
   "id": "c231f523",
   "metadata": {
    "id": "c231f523"
   },
   "outputs": [
    {
     "data": {
      "image/png": "[encoded data removed]",
      "text/plain": [
       "<Figure size 432x288 with 1 Axes>"
      ]
     },
     "metadata": {
      "needs_background": "light"
     },
     "output_type": "display_data"
    }
   ],
   "source": [
    "plt.hist(orders_df['days_since_prior_order'], bins=30, color='skyblue', edgecolor='black')\n",
    "plt.xlabel('Dias Desde o Último Pedido')\n",
    "plt.ylabel('Número de Clientes')\n",
    "plt.title('Distribuição de Dias Desde o Último Pedido')\n",
    "\n",
    "min_days = orders_df['days_since_prior_order'].min()\n",
    "max_days = orders_df['days_since_prior_order'].max()\n",
    "plt.axvline(min_days, color='red', linestyle='dashed', linewidth=2, label=f'Mínimo ({min_days} dias)')\n",
    "plt.axvline(max_days, color='green', linestyle='dashed', linewidth=2, label=f'Máximo ({max_days} dias)')\n",
    "\n",
    "plt.legend()\n",
    "\n",
    "plt.tight_layout()\n",
    "plt.show()"
   ]
  },
  {
   "cell_type": "markdown",
   "id": "discrete-vertex",
   "metadata": {
    "id": "discrete-vertex"
   },
   "source": [
    "As pessoas tendem a esperar 30 dias para realizar um novo pedido."
   ]
  },
  {
   "cell_type": "markdown",
   "id": "7c4bd421",
   "metadata": {},
   "source": [
    "<div class=\"alert alert-block alert-success\">\n",
    "<b> Comentário do revisor: </b> <a class=\"tocSkip\"></a>\n",
    "\n",
    "O estudante analisou a distribuição do intervalo do tempo entre compras dos consumidores. \n",
    "    \n",
    "</div>"
   ]
  },
  {
   "cell_type": "markdown",
   "id": "tight-staff",
   "metadata": {
    "id": "tight-staff"
   },
   "source": [
    "# [B] Médio (é necessário concluir tudo para passar)\n",
    "\n",
    "1.\tHá alguma diferença nas distribuições de `'order_hour_of_day'` nas quartas e sábados? Construa histogramas para ambos os dias no mesmo gráfico e descreva as diferenças que você notou.\n",
    "2.\tConstrua um gráfico de distribuição para o número de pedidos que os clientes fazem (ou seja, quantos clientes fizeram apenas 1 pedido, quantos fizeram apenas 2, quantos apenas 3, etc.)\n",
    "3.\tQuais são os 20 produtos comprados com mais frequência? Exiba os IDs e nomes.\n"
   ]
  },
  {
   "cell_type": "markdown",
   "id": "packed-classic",
   "metadata": {
    "id": "packed-classic"
   },
   "source": [
    "### [B1] Diferenças nas quartas e sábados em `'order_hour_of_day'`. Crie histogramas para ambos os dias e descreva as diferenças."
   ]
  },
  {
   "cell_type": "code",
   "execution_count": 40,
   "id": "d89b8403",
   "metadata": {
    "id": "d89b8403"
   },
   "outputs": [],
   "source": [
    "wednesday_data = orders_df[orders_df['order_dow'] == 2]"
   ]
  },
  {
   "cell_type": "code",
   "execution_count": 41,
   "id": "94e54e8a",
   "metadata": {
    "id": "94e54e8a"
   },
   "outputs": [
    {
     "data": {
      "image/png": "[encoded data removed]",
      "text/plain": [
       "<Figure size 864x432 with 1 Axes>"
      ]
     },
     "metadata": {
      "needs_background": "light"
     },
     "output_type": "display_data"
    }
   ],
   "source": [
    "plt.figure(figsize=(12, 6))\n",
    "plt.hist(wednesday_data['order_hour_of_day'], bins=24, alpha=0.5, color='skyblue', label='Quartas')\n",
    "plt.xlabel('Hora do Dia')\n",
    "plt.ylabel('Número de Pedidos')\n",
    "plt.title('Distribuição de Pedidos por Hora do Dia (Quartas)')\n",
    "plt.legend()\n",
    "\n",
    "plt.tight_layout()\n",
    "plt.show()"
   ]
  },
  {
   "cell_type": "code",
   "execution_count": 42,
   "id": "797c90a8",
   "metadata": {
    "id": "797c90a8"
   },
   "outputs": [],
   "source": [
    "saturday_data = orders_df[orders_df['order_dow'] == 5]"
   ]
  },
  {
   "cell_type": "code",
   "execution_count": 43,
   "id": "35bcea30",
   "metadata": {
    "id": "35bcea30"
   },
   "outputs": [
    {
     "data": {
      "image/png": "[encoded data removed]",
      "text/plain": [
       "<Figure size 864x432 with 1 Axes>"
      ]
     },
     "metadata": {
      "needs_background": "light"
     },
     "output_type": "display_data"
    }
   ],
   "source": [
    "plt.figure(figsize=(12, 6))\n",
    "plt.hist(saturday_data['order_hour_of_day'], bins=24, alpha=0.5, color='green', label='Sábados')\n",
    "plt.xlabel('Hora do Dia')\n",
    "plt.ylabel('Número de Pedidos')\n",
    "plt.title('Distribuição de Pedidos por Hora do Dia (Sábados)')\n",
    "plt.legend()\n",
    "\n",
    "plt.tight_layout()\n",
    "plt.show()"
   ]
  },
  {
   "cell_type": "markdown",
   "id": "charitable-congo",
   "metadata": {
    "id": "charitable-congo"
   },
   "source": [
    "Ambos os dias as compras começam em um pico as 10:00."
   ]
  },
  {
   "cell_type": "markdown",
   "id": "8152397d",
   "metadata": {},
   "source": [
    "<div class=\"alert alert-block alert-warning\">\n",
    "<b> Comentário do revisor: </b> <a class=\"tocSkip\"></a>\n",
    "\n",
    "O estudante analisou corretamente a distribuição de compras nas Quartas e sábados. Como sugestão, plote os dois gráficos na mesma figura e escala para poder comparar melhor as distribuições.\n",
    "    \n",
    "Segue como referência: https://www.geeksforgeeks.org/matplotlib-pyplot-subplots-in-python/. \n",
    "   \n",
    "    \n",
    "</div>"
   ]
  },
  {
   "cell_type": "markdown",
   "id": "e3891143",
   "metadata": {
    "id": "e3891143"
   },
   "source": [
    "### [B2] Qual é a distribuição do número de pedidos por cliente?"
   ]
  },
  {
   "cell_type": "code",
   "execution_count": 44,
   "id": "d8c26c23",
   "metadata": {
    "id": "d8c26c23"
   },
   "outputs": [],
   "source": [
    "order_counts_by_user = orders_df['user_id'].value_counts()\n",
    "order_counts_distribution = order_counts_by_user.value_counts().sort_index()"
   ]
  },
  {
   "cell_type": "code",
   "execution_count": 45,
   "id": "00e69a66",
   "metadata": {
    "id": "00e69a66"
   },
   "outputs": [
    {
     "data": {
      "image/png": "[encoded data removed]",
      "text/plain": [
       "<Figure size 720x432 with 1 Axes>"
      ]
     },
     "metadata": {
      "needs_background": "light"
     },
     "output_type": "display_data"
    }
   ],
   "source": [
    "plt.figure(figsize=(10, 6))\n",
    "plt.bar(order_counts_distribution.index, order_counts_distribution.values, color='skyblue')\n",
    "plt.xlabel('Número de Pedidos por Cliente')\n",
    "plt.ylabel('Número de Clientes')\n",
    "plt.title('Distribuição do Número de Pedidos por Cliente')\n",
    "\n",
    "plt.tight_layout()\n",
    "plt.show()"
   ]
  },
  {
   "cell_type": "markdown",
   "id": "d2eff7d5",
   "metadata": {
    "id": "d2eff7d5"
   },
   "source": [
    "Os clientes tendem a fazer 1 pedido."
   ]
  },
  {
   "cell_type": "markdown",
   "id": "b4b915de",
   "metadata": {},
   "source": [
    "<div class=\"alert alert-block alert-danger\">\n",
    "<b> Comentário do revisor: </b> <a class=\"tocSkip\"></a>\n",
    "\n",
    "Esse é realmente o valor mais frequente na série? Verifique qual a maior barra nesse gráfico que você gerou (não confundir com a média/mediana). Uma outra alternativa é calcular o valor por faixa de compras manualmente e verificar. Entretanto, olhando para esse gráfico já é possível obter a resposta. Vale ressaltar que esse é um comportamento do tipo \"long-tail\", ou seja, muitos eventos são feitos por pouco usuários.   \n",
    "    \n",
    "</div>"
   ]
  },
  {
   "cell_type": "markdown",
   "id": "be4c51e5",
   "metadata": {},
   "source": [
    "\n",
    "<div class=\"alert alert-block alert-info\">\n",
    "<b>Resposta do Aluno.</b> <a class=\"tocSkip\"></a>\n",
    "Refiz o comentário</div>"
   ]
  },
  {
   "cell_type": "markdown",
   "id": "cfcf8a91",
   "metadata": {},
   "source": [
    "<div class=\"alert alert-block alert-success\">\n",
    "<b> Comentário do revisor v2 </b> <a class=\"tocSkip\"></a>\n",
    "\n",
    "Ótimo!    \n",
    "</div>"
   ]
  },
  {
   "cell_type": "markdown",
   "id": "54a0319c",
   "metadata": {
    "id": "54a0319c"
   },
   "source": [
    "### [B3] Quais são os 20 produtos mais populares? Exiba os IDs e nomes."
   ]
  },
  {
   "cell_type": "code",
   "execution_count": 46,
   "id": "exterior-arizona",
   "metadata": {
    "id": "exterior-arizona",
    "scrolled": true
   },
   "outputs": [],
   "source": [
    "merged_df = pd.merge(order_products_df, products_df, on='product_id', how='inner')"
   ]
  },
  {
   "cell_type": "code",
   "execution_count": 47,
   "id": "universal-facial",
   "metadata": {
    "id": "universal-facial"
   },
   "outputs": [],
   "source": [
    "product_counts = merged_df['product_name'].value_counts().reset_index()\n",
    "product_counts.columns = ['product_name', 'purchase_count']\n",
    "top_20_products = product_counts.head(21)"
   ]
  },
  {
   "cell_type": "code",
   "execution_count": 48,
   "id": "bbcdd20b",
   "metadata": {
    "id": "bbcdd20b"
   },
   "outputs": [
    {
     "name": "stdout",
     "output_type": "stream",
     "text": [
      "                product_name  purchase_count\n",
      "0                     banana           66050\n",
      "1     bag of organic bananas           53297\n",
      "2       organic strawberries           37039\n",
      "3       organic baby spinach           33971\n",
      "4       organic hass avocado           29773\n",
      "5            organic avocado           24689\n",
      "6                large lemon           21495\n",
      "7               strawberries           20018\n",
      "8                      limes           19690\n",
      "9         organic whole milk           19600\n",
      "10       organic raspberries           19197\n",
      "11      organic yellow onion           15898\n",
      "12            organic garlic           15292\n",
      "13          organic zucchini           14584\n",
      "14       organic blueberries           13879\n",
      "15            cucumber kirby           13675\n",
      "16        organic fuji apple           12544\n",
      "17             organic lemon           12232\n",
      "18  apple honeycrisp organic           11993\n",
      "19    organic grape tomatoes           11781\n",
      "20       seedless red grapes           11755\n"
     ]
    }
   ],
   "source": [
    "print(top_20_products[['product_name', 'purchase_count']])"
   ]
  },
  {
   "cell_type": "markdown",
   "id": "7df00f47",
   "metadata": {
    "id": "7df00f47"
   },
   "source": [
    "O produto mais popular é a banana."
   ]
  },
  {
   "cell_type": "markdown",
   "id": "6b3b54e5",
   "metadata": {},
   "source": [
    "<div class=\"alert alert-block alert-danger\">\n",
    "<b> Comentário do revisor: </b> <a class=\"tocSkip\"></a>\n",
    "\n",
    "Aqui você está imprimindo a ordem de compra do produto e não a sua frequência. Pense em como você pode contar quantas vezes um produto foi comprado e depois ordenar essa lista para pegar os 20 mais frequentes.   \n",
    "    \n",
    "</div>"
   ]
  },
  {
   "cell_type": "markdown",
   "id": "d23f0943",
   "metadata": {},
   "source": [
    "\n",
    "<div class=\"alert alert-block alert-info\">\n",
    "<b>Resposta do Aluno.</b> <a class=\"tocSkip\"></a>\n",
    "Refiz o código</div>"
   ]
  },
  {
   "cell_type": "markdown",
   "id": "a8c2113b",
   "metadata": {},
   "source": [
    "<div class=\"alert alert-block alert-success\">\n",
    "<b> Comentário do revisor v2</b> <a class=\"tocSkip\"></a>\n",
    "\n",
    "Ótimo!    \n",
    "</div>"
   ]
  },
  {
   "cell_type": "markdown",
   "id": "gross-theme",
   "metadata": {
    "id": "gross-theme"
   },
   "source": [
    "# [C] Difícil (é necessário concluir pelo menos duas perguntas para passar)\n",
    "\n",
    "1.\tQuantos itens as pessoas normalmente compram em um pedido? Como fica a distribuição?\n",
    "2.\tQuais são os 20 principais itens incluídos mais frequentemente em pedidos repetidos? Exiba os IDs e nomes.\n",
    "3.\tPara cada produto, qual parcela de seus pedidos são repetidos? Crie uma tabela com colunas de ID e nome do produto e a proporção de pedidos repetidos.\n",
    "4.\tPara cada cliente, qual proporção de todos os seus pedidos são repetidos?\n",
    "5.\tQuais são os 20 principais itens que as pessoas colocam nos carrinhos antes de todos os outros? Exiba o ID do produto, nome e o número de vezes que ele foi o primeiro a ser adicionado a um carrinho.\n"
   ]
  },
  {
   "cell_type": "markdown",
   "id": "romantic-deposit",
   "metadata": {
    "id": "romantic-deposit"
   },
   "source": [
    "### [C1] Quantos itens as pessoas normalmente compram em um pedido? Como fica a distribuição?"
   ]
  },
  {
   "cell_type": "code",
   "execution_count": 49,
   "id": "virtual-punch",
   "metadata": {
    "id": "virtual-punch"
   },
   "outputs": [],
   "source": [
    "order_details = pd.merge(orders_df, order_products_df, on='order_id')"
   ]
  },
  {
   "cell_type": "code",
   "execution_count": 50,
   "id": "sensitive-breathing",
   "metadata": {
    "id": "sensitive-breathing"
   },
   "outputs": [],
   "source": [
    "average_items_per_order = order_details.groupby('order_id')['product_id'].count().mean()"
   ]
  },
  {
   "cell_type": "code",
   "execution_count": 51,
   "id": "completed-frank",
   "metadata": {
    "id": "completed-frank"
   },
   "outputs": [
    {
     "data": {
      "image/png": "[encoded data removed]",
      "text/plain": [
       "<Figure size 720x432 with 1 Axes>"
      ]
     },
     "metadata": {
      "needs_background": "light"
     },
     "output_type": "display_data"
    }
   ],
   "source": [
    "plt.figure(figsize=(10, 6))\n",
    "plt.hist(order_details.groupby('order_id')['product_id'].count(), bins=30, color='skyblue', edgecolor='black')\n",
    "plt.xlabel('Número de Itens por Pedido')\n",
    "plt.ylabel('Número de Pedidos')\n",
    "plt.title(f'Distribuição do Número de Itens por Pedido (Média = {average_items_per_order:.2f})')\n",
    "\n",
    "plt.tight_layout()\n",
    "plt.show()"
   ]
  },
  {
   "cell_type": "markdown",
   "id": "designed-mortality",
   "metadata": {
    "id": "designed-mortality"
   },
   "source": [
    "As pessoas normalmente compram de 1 a 20 produtos por pedido."
   ]
  },
  {
   "cell_type": "markdown",
   "id": "99ec9986",
   "metadata": {},
   "source": [
    "<div class=\"alert alert-block alert-warning\">\n",
    "<b> Comentário do revisor: </b> <a class=\"tocSkip\"></a>\n",
    "\n",
    "Excelente análise. Uma sugestão seria usar a função `pd.cut()` para agrupar os valores em faixas: 1-5, 5-10, etc.\n",
    "   \n",
    "    \n",
    "</div>"
   ]
  },
  {
   "cell_type": "markdown",
   "id": "5e6b5537",
   "metadata": {
    "id": "5e6b5537"
   },
   "source": [
    "### [C2] Quais são os 20 principais itens incluídos mais frequentemente em pedidos repetidos? Exiba os IDs e nomes."
   ]
  },
  {
   "cell_type": "code",
   "execution_count": 52,
   "id": "9374e55a",
   "metadata": {
    "id": "9374e55a"
   },
   "outputs": [],
   "source": [
    "order_details = pd.merge(order_products_df, products_df, on='product_id')"
   ]
  },
  {
   "cell_type": "code",
   "execution_count": 53,
   "id": "possible-change",
   "metadata": {
    "id": "possible-change",
    "scrolled": true
   },
   "outputs": [],
   "source": [
    "reordered_products = order_details[order_details['reordered'] == 1]\n",
    "product_reorder_counts = reordered_products['product_name'].value_counts().reset_index()\n",
    "product_reorder_counts.columns = ['product_name', 'reorder_count']"
   ]
  },
  {
   "cell_type": "code",
   "execution_count": 54,
   "id": "professional-surfing",
   "metadata": {
    "id": "professional-surfing",
    "scrolled": true
   },
   "outputs": [],
   "source": [
    "top_20_reorder_products = product_reorder_counts.head(21)"
   ]
  },
  {
   "cell_type": "code",
   "execution_count": 55,
   "id": "48dd3658",
   "metadata": {
    "id": "48dd3658"
   },
   "outputs": [
    {
     "name": "stdout",
     "output_type": "stream",
     "text": [
      "                  product_name  reorder_count\n",
      "0                       banana          55763\n",
      "1       bag of organic bananas          44450\n",
      "2         organic strawberries          28639\n",
      "3         organic baby spinach          26233\n",
      "4         organic hass avocado          23629\n",
      "5              organic avocado          18743\n",
      "6           organic whole milk          16251\n",
      "7                  large lemon          15044\n",
      "8          organic raspberries          14748\n",
      "9                 strawberries          13945\n",
      "10                       limes          13327\n",
      "11        organic yellow onion          11145\n",
      "12              organic garlic          10411\n",
      "13            organic zucchini          10076\n",
      "14              cucumber kirby           9538\n",
      "15          organic fuji apple           8989\n",
      "16    apple honeycrisp organic           8836\n",
      "17         organic blueberries           8799\n",
      "18               organic lemon           8412\n",
      "19         organic half & half           8389\n",
      "20  sparkling water grapefruit           8187\n"
     ]
    }
   ],
   "source": [
    "print(top_20_reorder_products)"
   ]
  },
  {
   "cell_type": "markdown",
   "id": "80e70c74",
   "metadata": {
    "id": "80e70c74"
   },
   "source": [
    "Escreva suas conclusões aqui"
   ]
  },
  {
   "cell_type": "markdown",
   "id": "7dfd43b3",
   "metadata": {},
   "source": [
    "<div class=\"alert alert-block alert-success\">\n",
    "<b> Comentário do revisor: </b> <a class=\"tocSkip\"></a>\n",
    "\n",
    "O estudante calculou corretamente os produtos incluídos em pedidos repetidos.  \n",
    "    \n",
    "</div>"
   ]
  },
  {
   "cell_type": "markdown",
   "id": "9d312b14",
   "metadata": {
    "id": "9d312b14"
   },
   "source": [
    "### [C3] Para cada produto, qual parcela de todos os pedidos dele são repetidos?"
   ]
  },
  {
   "cell_type": "code",
   "execution_count": 56,
   "id": "8ae9f4b1",
   "metadata": {
    "id": "8ae9f4b1"
   },
   "outputs": [],
   "source": [
    "merged_df = pd.merge(order_products_df, products_df, on='product_id', how='inner')"
   ]
  },
  {
   "cell_type": "code",
   "execution_count": 57,
   "id": "103e7fe1",
   "metadata": {
    "id": "103e7fe1"
   },
   "outputs": [],
   "source": [
    "product_purchase_counts = merged_df.groupby(['product_id', 'product_name'])['order_id'].nunique().reset_index()\n",
    "product_repeated_counts = merged_df[merged_df['reordered'] == 1].groupby(['product_id', 'product_name'])['order_id'].nunique().reset_index()\n",
    "product_purchase_counts.columns = ['product_id', 'product_name', 'total_purchases']\n",
    "product_repeated_counts.columns = ['product_id', 'product_name', 'repeated_purchases']\n",
    "merged_counts = pd.merge(product_purchase_counts, product_repeated_counts, on=['product_id', 'product_name'], how='left')\n",
    "merged_counts['repeated_purchases'] = merged_counts['repeated_purchases'].fillna(0)\n",
    "merged_counts['repeated_purchase_ratio'] = (merged_counts['repeated_purchases'] / merged_counts['total_purchases']) * 100"
   ]
  },
  {
   "cell_type": "code",
   "execution_count": 58,
   "id": "social-individual",
   "metadata": {
    "id": "social-individual"
   },
   "outputs": [
    {
     "name": "stdout",
     "output_type": "stream",
     "text": [
      "       product_id                                       product_name  \\\n",
      "0               1                         chocolate sandwich cookies   \n",
      "1               2                                   all-seasons salt   \n",
      "2               3               robust golden unsweetened oolong tea   \n",
      "3               4  smart ones classic favorites mini rigatoni wit...   \n",
      "4               7                     pure coconut water with orange   \n",
      "...           ...                                                ...   \n",
      "45568       49690                      high performance energy drink   \n",
      "45569       49691                      original pancake & waffle mix   \n",
      "45570       49692    organic instant oatmeal light maple brown sugar   \n",
      "45571       49693                             spring water body wash   \n",
      "45572       49694                            burrito- steak & cheese   \n",
      "\n",
      "       repeated_purchase_ratio  \n",
      "0                    56.428571  \n",
      "1                     0.000000  \n",
      "2                    73.809524  \n",
      "3                    51.020408  \n",
      "4                    50.000000  \n",
      "...                        ...  \n",
      "45568                80.000000  \n",
      "45569                43.055556  \n",
      "45570                41.666667  \n",
      "45571                44.000000  \n",
      "45572                33.333333  \n",
      "\n",
      "[45573 rows x 3 columns]\n"
     ]
    }
   ],
   "source": [
    "print(merged_counts[['product_id', 'product_name', 'repeated_purchase_ratio']])"
   ]
  },
  {
   "cell_type": "markdown",
   "id": "I10dEIAyldcO",
   "metadata": {
    "id": "I10dEIAyldcO"
   },
   "source": [
    "Escreva suas conclusões aqui"
   ]
  },
  {
   "cell_type": "markdown",
   "id": "edb86232",
   "metadata": {},
   "source": [
    "<div class=\"alert alert-block alert-danger\">\n",
    "<b> Comentário do revisor: </b> <a class=\"tocSkip\"></a>\n",
    "\n",
    "Nesse ponto precisamos de ajustes. O cálculo deve ser feito por produto e não usuário. Reveja a pergunta de negócio: Para cada produto, qual proporção de suas compras foi de produtos repetidos? Isso te dá também um indicativo de que esse percentual não pode ser > 100%.\n",
    "    \n",
    "<br>\n",
    "Dica: use uma estratégia parecida utilizada na questão abaixo.\n",
    "</div>"
   ]
  },
  {
   "cell_type": "markdown",
   "id": "0b361f13",
   "metadata": {},
   "source": [
    "\n",
    "<div class=\"alert alert-block alert-info\">\n",
    "<b>Resposta do Aluno.</b> <a class=\"tocSkip\"></a>\n",
    "Refiz o código</div>"
   ]
  },
  {
   "cell_type": "markdown",
   "id": "a0ed0d78",
   "metadata": {},
   "source": [
    "<div class=\"alert alert-block alert-success\">\n",
    "<b> Comentário do revisor v2 </b> <a class=\"tocSkip\"></a>\n",
    "\n",
    "Ficou muito bom com esse ajuste! Gostei que você teve o cuidado de usar `left` join para evitar de filtrar somente os produtos que tiveram em pedidos repetidos.\n",
    "    \n",
    "</div>"
   ]
  },
  {
   "cell_type": "markdown",
   "id": "subject-boxing",
   "metadata": {
    "id": "subject-boxing"
   },
   "source": [
    "### [C4] Para cada cliente, qual proporção de todos os seus pedidos são repetidos?"
   ]
  },
  {
   "cell_type": "code",
   "execution_count": 87,
   "id": "medical-couple",
   "metadata": {
    "id": "medical-couple",
    "scrolled": true
   },
   "outputs": [],
   "source": [
    "order_details = pd.merge(orders_df, order_products_df, on='order_id')\n",
    "order_details['reordered'] = order_details['reordered'].fillna(0).astype(int)"
   ]
  },
  {
   "cell_type": "code",
   "execution_count": 88,
   "id": "8892e4b4",
   "metadata": {
    "id": "8892e4b4"
   },
   "outputs": [
    {
     "name": "stdout",
     "output_type": "stream",
     "text": [
      "        user_id  reorder_ratio\n",
      "0             2            0.5\n",
      "1             4            0.0\n",
      "2             5            1.0\n",
      "3             6            0.0\n",
      "4             7            1.0\n",
      "...         ...            ...\n",
      "149621   206203            1.0\n",
      "149622   206206            1.0\n",
      "149623   206207            1.0\n",
      "149624   206208            1.0\n",
      "149625   206209            1.0\n",
      "\n",
      "[149626 rows x 2 columns]\n"
     ]
    }
   ],
   "source": [
    "total_orders_by_customer = order_details.groupby('user_id')['order_id'].nunique()\n",
    "reordered_orders_by_customer = order_details[order_details['reordered'] == 1].groupby('user_id')['order_id'].nunique()\n",
    "reorder_ratio_by_customer = (reordered_orders_by_customer / total_orders_by_customer).fillna(0)\n",
    "result_df = pd.DataFrame({'user_id': reorder_ratio_by_customer.index, 'reorder_ratio': reorder_ratio_by_customer.values})\n",
    "print(result_df)"
   ]
  },
  {
   "cell_type": "markdown",
   "id": "BgJSvXDsleXz",
   "metadata": {
    "id": "BgJSvXDsleXz"
   },
   "source": [
    "Escreva suas conclusões aqui"
   ]
  },
  {
   "cell_type": "markdown",
   "id": "59490f49",
   "metadata": {},
   "source": [
    "<div class=\"alert alert-block alert-success\">\n",
    "<b> Comentário do revisor: </b> <a class=\"tocSkip\"></a>\n",
    "\n",
    "O estudante calculou corretamente os percentual de produtos repetidos por cliente.  \n",
    "    \n",
    "</div>"
   ]
  },
  {
   "cell_type": "markdown",
   "id": "92d35137",
   "metadata": {
    "id": "92d35137"
   },
   "source": [
    "### [C5] Quais são os 20 principais itens que as pessoas colocam nos carrinhos antes de todos os outros?"
   ]
  },
  {
   "cell_type": "code",
   "execution_count": 89,
   "id": "0ae57274",
   "metadata": {
    "id": "0ae57274",
    "scrolled": true
   },
   "outputs": [],
   "source": [
    "order_details = pd.merge(order_products_df, products_df, on='product_id')"
   ]
  },
  {
   "cell_type": "code",
   "execution_count": 91,
   "id": "forty-netherlands",
   "metadata": {
    "id": "forty-netherlands",
    "scrolled": true
   },
   "outputs": [],
   "source": [
    "first_added_to_cart = order_details[order_details['add_to_cart_order'] == 1]\n",
    "first_added_counts = first_added_to_cart['product_name'].value_counts().reset_index()\n",
    "first_added_counts.columns = ['product_name', 'first_added_count']\n",
    "top_20_first_added_products = first_added_counts.head(21)"
   ]
  },
  {
   "cell_type": "code",
   "execution_count": 92,
   "id": "08e41ec2",
   "metadata": {
    "id": "08e41ec2"
   },
   "outputs": [
    {
     "name": "stdout",
     "output_type": "stream",
     "text": [
      "                   product_name  first_added_count\n",
      "0                        banana              15562\n",
      "1        bag of organic bananas              11026\n",
      "2            organic whole milk               4363\n",
      "3          organic strawberries               3946\n",
      "4          organic hass avocado               3390\n",
      "5          organic baby spinach               3336\n",
      "6               organic avocado               3044\n",
      "7                  spring water               2336\n",
      "8                  strawberries               2308\n",
      "9           organic raspberries               2024\n",
      "10   sparkling water grapefruit               1914\n",
      "11          organic half & half               1797\n",
      "12                  large lemon               1737\n",
      "13                         soda               1733\n",
      "14     organic reduced fat milk               1397\n",
      "15                        limes               1370\n",
      "16                hass avocados               1340\n",
      "17  organic reduced fat 2% milk               1310\n",
      "18                  half & half               1309\n",
      "19                  raspberries               1246\n",
      "20         organic yellow onion               1246\n"
     ]
    }
   ],
   "source": [
    "print(top_20_first_added_products)"
   ]
  },
  {
   "cell_type": "markdown",
   "id": "28ce9872",
   "metadata": {
    "id": "28ce9872"
   },
   "source": [
    "Escreva suas conclusões aqui"
   ]
  },
  {
   "cell_type": "markdown",
   "id": "c82206ae",
   "metadata": {},
   "source": [
    "<div class=\"alert alert-block alert-success\">\n",
    "<b> Comentário do revisor: </b> <a class=\"tocSkip\"></a>\n",
    "\n",
    "O estudante calculou corretamente os produtos mais frequentes adicionados ao carrinho.  \n",
    "    \n",
    "</div>"
   ]
  },
  {
   "cell_type": "markdown",
   "id": "c9dc380e",
   "metadata": {},
   "source": [
    "<div class=\"alert alert-block alert-danger\">\n",
    "<b> Comentário geral do revisor v1 </b> <a class=\"tocSkip\"></a>\n",
    "\n",
    "Parabéns, você teve um grande esforço para chegar até aqui e fez um ótimo trabalho. Dentre os pontos positivos do seu projeto, gostaria de destacar os seguintes:\n",
    "- Boa organização do código\n",
    "- Gráficos bem apresentados e seguindo boas práticas\n",
    "- Código limpo e comentado\n",
    "    \n",
    "Para seguirmos, gostaria que você ajustasse os pontos que comentei mais acima. Faltam apenas alguns ajustes e acredito que com essa versão você vai entregar um projeto ainda mais incrível. \n",
    "    \n",
    "Lembrando que os comentários em amarelo são sugestões e não precisam ser implementados.\n",
    "    \n",
    "Qualquer dúvida, pode contar comigo.\n",
    "    \n",
    "    \n",
    "<br>\n",
    "    \n",
    "    \n",
    "**Até breve!**\n",
    "    \n",
    "</div>"
   ]
  },
  {
   "cell_type": "markdown",
   "id": "c5d94909",
   "metadata": {},
   "source": [
    "<div class=\"alert alert-block alert-success\">\n",
    "<b> Comentário do revisor v2 </b> <a class=\"tocSkip\"></a>\n",
    "\n",
    "Obrigado por enviar o seu projeto e por fazer os ajustes sugeridos, essa versão ficou muito boa e espero que você tenha aprendido bastante no processo de revisão. \n",
    "    \n",
    "Nesse projeto, acredito que foi possível consolidar alguns conhecimentos muito importantates e que são muito utilizados em projetos reais:\n",
    "- Ler corretamente um gráfico de distribuição long-tail (esse tipo de distribuição está por toda parte, principalmente em redes sociais e e-commerce)\n",
    "- Usar a operação correta ao fazer o `join` entre bases de dados\n",
    "- Apresentar gráficos de forma intuitiva\n",
    "      \n",
    "<br>\n",
    "    \n",
    "No geral, o seu código é muito bem estruturado, os gráficos apresentados são bem relevantes e suas análises pertinentes.\n",
    "   \n",
    "    \n",
    "Você finalizou o projeto. Te desejo sucesso nessa jornada de aprendizado e pode contar comigo nesse processo.\n",
    "\n",
    "<br>\n",
    "\n",
    "**Até breve!**\n",
    "</div>"
   ]
  }
 ],
 "metadata": {
  "colab": {
   "provenance": []
  },
  "kernelspec": {
   "display_name": "Python 3 (ipykernel)",
   "language": "python",
   "name": "python3"
  },
  "language_info": {
   "codemirror_mode": {
    "name": "ipython",
    "version": 3
   },
   "file_extension": ".py",
   "mimetype": "text/x-python",
   "name": "python",
   "nbconvert_exporter": "python",
   "pygments_lexer": "ipython3",
   "version": "3.9.5"
  },
  "toc": {
   "base_numbering": 1,
   "nav_menu": {},
   "number_sections": true,
   "sideBar": true,
   "skip_h1_title": true,
   "title_cell": "Table of Contents",
   "title_sidebar": "Contents",
   "toc_cell": false,
   "toc_position": {},
   "toc_section_display": true,
   "toc_window_display": false
  },
  "vscode": {
   "interpreter": {
    "hash": "01a7be9ec63e704a62cefc5fe7a4756944464ee731be31632bdf42a4cb4688cf"
   }
  }
 },
 "nbformat": 4,
 "nbformat_minor": 5
}
